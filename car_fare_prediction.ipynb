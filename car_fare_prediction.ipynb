{
 "cells": [
  {
   "cell_type": "markdown",
   "metadata": {},
   "source": [
    "<h1 align=center>Car Fare Prediction</h1>"
   ]
  },
  {
   "cell_type": "code",
   "execution_count": 1,
   "metadata": {},
   "outputs": [],
   "source": [
    "## Load some default Python modules\n",
    "import numpy as np\n",
    "import pandas as pd\n",
    "import matplotlib.pyplot as plt\n",
    "import seaborn as sns\n",
    "%matplotlib inline\n",
    "plt.style.use('seaborn-whitegrid')"
   ]
  },
  {
   "cell_type": "code",
   "execution_count": 2,
   "metadata": {},
   "outputs": [
    {
     "data": {
      "text/html": [
       "<div>\n",
       "<style scoped>\n",
       "    .dataframe tbody tr th:only-of-type {\n",
       "        vertical-align: middle;\n",
       "    }\n",
       "\n",
       "    .dataframe tbody tr th {\n",
       "        vertical-align: top;\n",
       "    }\n",
       "\n",
       "    .dataframe thead th {\n",
       "        text-align: right;\n",
       "    }\n",
       "</style>\n",
       "<table border=\"1\" class=\"dataframe\">\n",
       "  <thead>\n",
       "    <tr style=\"text-align: right;\">\n",
       "      <th></th>\n",
       "      <th>fare_amount</th>\n",
       "      <th>pickup_datetime</th>\n",
       "      <th>pickup_longitude</th>\n",
       "      <th>pickup_latitude</th>\n",
       "      <th>dropoff_longitude</th>\n",
       "      <th>dropoff_latitude</th>\n",
       "      <th>passenger_count</th>\n",
       "    </tr>\n",
       "  </thead>\n",
       "  <tbody>\n",
       "    <tr>\n",
       "      <th>0</th>\n",
       "      <td>4.5</td>\n",
       "      <td>2009-06-15 17:26:21 UTC</td>\n",
       "      <td>-73.844311</td>\n",
       "      <td>40.721319</td>\n",
       "      <td>-73.841610</td>\n",
       "      <td>40.712278</td>\n",
       "      <td>1.0</td>\n",
       "    </tr>\n",
       "    <tr>\n",
       "      <th>1</th>\n",
       "      <td>16.9</td>\n",
       "      <td>2010-01-05 16:52:16 UTC</td>\n",
       "      <td>-74.016048</td>\n",
       "      <td>40.711303</td>\n",
       "      <td>-73.979268</td>\n",
       "      <td>40.782004</td>\n",
       "      <td>1.0</td>\n",
       "    </tr>\n",
       "    <tr>\n",
       "      <th>2</th>\n",
       "      <td>5.7</td>\n",
       "      <td>2011-08-18 00:35:00 UTC</td>\n",
       "      <td>-73.982738</td>\n",
       "      <td>40.761270</td>\n",
       "      <td>-73.991242</td>\n",
       "      <td>40.750562</td>\n",
       "      <td>2.0</td>\n",
       "    </tr>\n",
       "    <tr>\n",
       "      <th>3</th>\n",
       "      <td>7.7</td>\n",
       "      <td>2012-04-21 04:30:42 UTC</td>\n",
       "      <td>-73.987130</td>\n",
       "      <td>40.733143</td>\n",
       "      <td>-73.991567</td>\n",
       "      <td>40.758092</td>\n",
       "      <td>1.0</td>\n",
       "    </tr>\n",
       "    <tr>\n",
       "      <th>4</th>\n",
       "      <td>5.3</td>\n",
       "      <td>2010-03-09 07:51:00 UTC</td>\n",
       "      <td>-73.968095</td>\n",
       "      <td>40.768008</td>\n",
       "      <td>-73.956655</td>\n",
       "      <td>40.783762</td>\n",
       "      <td>1.0</td>\n",
       "    </tr>\n",
       "  </tbody>\n",
       "</table>\n",
       "</div>"
      ],
      "text/plain": [
       "  fare_amount          pickup_datetime  pickup_longitude  pickup_latitude  \\\n",
       "0         4.5  2009-06-15 17:26:21 UTC        -73.844311        40.721319   \n",
       "1        16.9  2010-01-05 16:52:16 UTC        -74.016048        40.711303   \n",
       "2         5.7  2011-08-18 00:35:00 UTC        -73.982738        40.761270   \n",
       "3         7.7  2012-04-21 04:30:42 UTC        -73.987130        40.733143   \n",
       "4         5.3  2010-03-09 07:51:00 UTC        -73.968095        40.768008   \n",
       "\n",
       "   dropoff_longitude  dropoff_latitude  passenger_count  \n",
       "0         -73.841610         40.712278              1.0  \n",
       "1         -73.979268         40.782004              1.0  \n",
       "2         -73.991242         40.750562              2.0  \n",
       "3         -73.991567         40.758092              1.0  \n",
       "4         -73.956655         40.783762              1.0  "
      ]
     },
     "execution_count": 2,
     "metadata": {},
     "output_type": "execute_result"
    }
   ],
   "source": [
    "## Read data in pandas dataframe, using nrows for exploration, then chunksize for later processing.\n",
    "train_df =  pd.read_csv('train_cab.csv',parse_dates=[\"pickup_datetime\"])\n",
    "\n",
    "## List first few rows (datapoints)\n",
    "train_df.head()"
   ]
  },
  {
   "cell_type": "code",
   "execution_count": 3,
   "metadata": {},
   "outputs": [
    {
     "data": {
      "text/html": [
       "<div>\n",
       "<style scoped>\n",
       "    .dataframe tbody tr th:only-of-type {\n",
       "        vertical-align: middle;\n",
       "    }\n",
       "\n",
       "    .dataframe tbody tr th {\n",
       "        vertical-align: top;\n",
       "    }\n",
       "\n",
       "    .dataframe thead th {\n",
       "        text-align: right;\n",
       "    }\n",
       "</style>\n",
       "<table border=\"1\" class=\"dataframe\">\n",
       "  <thead>\n",
       "    <tr style=\"text-align: right;\">\n",
       "      <th></th>\n",
       "      <th>pickup_datetime</th>\n",
       "      <th>pickup_longitude</th>\n",
       "      <th>pickup_latitude</th>\n",
       "      <th>dropoff_longitude</th>\n",
       "      <th>dropoff_latitude</th>\n",
       "      <th>passenger_count</th>\n",
       "    </tr>\n",
       "  </thead>\n",
       "  <tbody>\n",
       "    <tr>\n",
       "      <th>0</th>\n",
       "      <td>2015-01-27 13:08:24+00:00</td>\n",
       "      <td>-73.973320</td>\n",
       "      <td>40.763805</td>\n",
       "      <td>-73.981430</td>\n",
       "      <td>40.743835</td>\n",
       "      <td>1</td>\n",
       "    </tr>\n",
       "    <tr>\n",
       "      <th>1</th>\n",
       "      <td>2015-01-27 13:08:24+00:00</td>\n",
       "      <td>-73.986862</td>\n",
       "      <td>40.719383</td>\n",
       "      <td>-73.998886</td>\n",
       "      <td>40.739201</td>\n",
       "      <td>1</td>\n",
       "    </tr>\n",
       "    <tr>\n",
       "      <th>2</th>\n",
       "      <td>2011-10-08 11:53:44+00:00</td>\n",
       "      <td>-73.982524</td>\n",
       "      <td>40.751260</td>\n",
       "      <td>-73.979654</td>\n",
       "      <td>40.746139</td>\n",
       "      <td>1</td>\n",
       "    </tr>\n",
       "    <tr>\n",
       "      <th>3</th>\n",
       "      <td>2012-12-01 21:12:12+00:00</td>\n",
       "      <td>-73.981160</td>\n",
       "      <td>40.767807</td>\n",
       "      <td>-73.990448</td>\n",
       "      <td>40.751635</td>\n",
       "      <td>1</td>\n",
       "    </tr>\n",
       "    <tr>\n",
       "      <th>4</th>\n",
       "      <td>2012-12-01 21:12:12+00:00</td>\n",
       "      <td>-73.966046</td>\n",
       "      <td>40.789775</td>\n",
       "      <td>-73.988565</td>\n",
       "      <td>40.744427</td>\n",
       "      <td>1</td>\n",
       "    </tr>\n",
       "  </tbody>\n",
       "</table>\n",
       "</div>"
      ],
      "text/plain": [
       "            pickup_datetime  pickup_longitude  pickup_latitude  \\\n",
       "0 2015-01-27 13:08:24+00:00        -73.973320        40.763805   \n",
       "1 2015-01-27 13:08:24+00:00        -73.986862        40.719383   \n",
       "2 2011-10-08 11:53:44+00:00        -73.982524        40.751260   \n",
       "3 2012-12-01 21:12:12+00:00        -73.981160        40.767807   \n",
       "4 2012-12-01 21:12:12+00:00        -73.966046        40.789775   \n",
       "\n",
       "   dropoff_longitude  dropoff_latitude  passenger_count  \n",
       "0         -73.981430         40.743835                1  \n",
       "1         -73.998886         40.739201                1  \n",
       "2         -73.979654         40.746139                1  \n",
       "3         -73.990448         40.751635                1  \n",
       "4         -73.988565         40.744427                1  "
      ]
     },
     "execution_count": 3,
     "metadata": {},
     "output_type": "execute_result"
    }
   ],
   "source": [
    "## Read data in pandas dataframe\n",
    "test_df =  pd.read_csv('test.csv', parse_dates=[\"pickup_datetime\"])\n",
    "test_df.head(5)"
   ]
  },
  {
   "cell_type": "markdown",
   "metadata": {},
   "source": [
    "## 1. Data Wrangling"
   ]
  },
  {
   "cell_type": "code",
   "execution_count": 4,
   "metadata": {},
   "outputs": [
    {
     "data": {
      "text/plain": [
       "fare_amount           object\n",
       "pickup_datetime       object\n",
       "pickup_longitude     float64\n",
       "pickup_latitude      float64\n",
       "dropoff_longitude    float64\n",
       "dropoff_latitude     float64\n",
       "passenger_count      float64\n",
       "dtype: object"
      ]
     },
     "execution_count": 4,
     "metadata": {},
     "output_type": "execute_result"
    }
   ],
   "source": [
    "## Check datatypes\n",
    "train_df.dtypes"
   ]
  },
  {
   "cell_type": "code",
   "execution_count": 5,
   "metadata": {},
   "outputs": [
    {
     "data": {
      "text/html": [
       "<div>\n",
       "<style scoped>\n",
       "    .dataframe tbody tr th:only-of-type {\n",
       "        vertical-align: middle;\n",
       "    }\n",
       "\n",
       "    .dataframe tbody tr th {\n",
       "        vertical-align: top;\n",
       "    }\n",
       "\n",
       "    .dataframe thead th {\n",
       "        text-align: right;\n",
       "    }\n",
       "</style>\n",
       "<table border=\"1\" class=\"dataframe\">\n",
       "  <thead>\n",
       "    <tr style=\"text-align: right;\">\n",
       "      <th></th>\n",
       "      <th>pickup_longitude</th>\n",
       "      <th>pickup_latitude</th>\n",
       "      <th>dropoff_longitude</th>\n",
       "      <th>dropoff_latitude</th>\n",
       "      <th>passenger_count</th>\n",
       "    </tr>\n",
       "  </thead>\n",
       "  <tbody>\n",
       "    <tr>\n",
       "      <th>count</th>\n",
       "      <td>16067.000000</td>\n",
       "      <td>16067.000000</td>\n",
       "      <td>16067.000000</td>\n",
       "      <td>16067.000000</td>\n",
       "      <td>16012.000000</td>\n",
       "    </tr>\n",
       "    <tr>\n",
       "      <th>mean</th>\n",
       "      <td>-72.462787</td>\n",
       "      <td>39.914725</td>\n",
       "      <td>-72.462328</td>\n",
       "      <td>39.897906</td>\n",
       "      <td>2.625070</td>\n",
       "    </tr>\n",
       "    <tr>\n",
       "      <th>std</th>\n",
       "      <td>10.578384</td>\n",
       "      <td>6.826587</td>\n",
       "      <td>10.575062</td>\n",
       "      <td>6.187087</td>\n",
       "      <td>60.844122</td>\n",
       "    </tr>\n",
       "    <tr>\n",
       "      <th>min</th>\n",
       "      <td>-74.438233</td>\n",
       "      <td>-74.006893</td>\n",
       "      <td>-74.429332</td>\n",
       "      <td>-74.006377</td>\n",
       "      <td>0.000000</td>\n",
       "    </tr>\n",
       "    <tr>\n",
       "      <th>25%</th>\n",
       "      <td>-73.992156</td>\n",
       "      <td>40.734927</td>\n",
       "      <td>-73.991182</td>\n",
       "      <td>40.734651</td>\n",
       "      <td>1.000000</td>\n",
       "    </tr>\n",
       "    <tr>\n",
       "      <th>50%</th>\n",
       "      <td>-73.981698</td>\n",
       "      <td>40.752603</td>\n",
       "      <td>-73.980172</td>\n",
       "      <td>40.753567</td>\n",
       "      <td>1.000000</td>\n",
       "    </tr>\n",
       "    <tr>\n",
       "      <th>75%</th>\n",
       "      <td>-73.966838</td>\n",
       "      <td>40.767381</td>\n",
       "      <td>-73.963643</td>\n",
       "      <td>40.768013</td>\n",
       "      <td>2.000000</td>\n",
       "    </tr>\n",
       "    <tr>\n",
       "      <th>max</th>\n",
       "      <td>40.766125</td>\n",
       "      <td>401.083332</td>\n",
       "      <td>40.802437</td>\n",
       "      <td>41.366138</td>\n",
       "      <td>5345.000000</td>\n",
       "    </tr>\n",
       "  </tbody>\n",
       "</table>\n",
       "</div>"
      ],
      "text/plain": [
       "       pickup_longitude  pickup_latitude  dropoff_longitude  dropoff_latitude  \\\n",
       "count      16067.000000     16067.000000       16067.000000      16067.000000   \n",
       "mean         -72.462787        39.914725         -72.462328         39.897906   \n",
       "std           10.578384         6.826587          10.575062          6.187087   \n",
       "min          -74.438233       -74.006893         -74.429332        -74.006377   \n",
       "25%          -73.992156        40.734927         -73.991182         40.734651   \n",
       "50%          -73.981698        40.752603         -73.980172         40.753567   \n",
       "75%          -73.966838        40.767381         -73.963643         40.768013   \n",
       "max           40.766125       401.083332          40.802437         41.366138   \n",
       "\n",
       "       passenger_count  \n",
       "count     16012.000000  \n",
       "mean          2.625070  \n",
       "std          60.844122  \n",
       "min           0.000000  \n",
       "25%           1.000000  \n",
       "50%           1.000000  \n",
       "75%           2.000000  \n",
       "max        5345.000000  "
      ]
     },
     "execution_count": 5,
     "metadata": {},
     "output_type": "execute_result"
    }
   ],
   "source": [
    "## Check statistics of the features\n",
    "train_df.describe()"
   ]
  },
  {
   "cell_type": "code",
   "execution_count": 6,
   "metadata": {},
   "outputs": [
    {
     "data": {
      "text/plain": [
       "pickup_datetime      datetime64[ns, UTC]\n",
       "pickup_longitude                 float64\n",
       "pickup_latitude                  float64\n",
       "dropoff_longitude                float64\n",
       "dropoff_latitude                 float64\n",
       "passenger_count                    int64\n",
       "dtype: object"
      ]
     },
     "execution_count": 6,
     "metadata": {},
     "output_type": "execute_result"
    }
   ],
   "source": [
    "test_df.dtypes"
   ]
  },
  {
   "cell_type": "code",
   "execution_count": 7,
   "metadata": {},
   "outputs": [
    {
     "data": {
      "text/html": [
       "<div>\n",
       "<style scoped>\n",
       "    .dataframe tbody tr th:only-of-type {\n",
       "        vertical-align: middle;\n",
       "    }\n",
       "\n",
       "    .dataframe tbody tr th {\n",
       "        vertical-align: top;\n",
       "    }\n",
       "\n",
       "    .dataframe thead th {\n",
       "        text-align: right;\n",
       "    }\n",
       "</style>\n",
       "<table border=\"1\" class=\"dataframe\">\n",
       "  <thead>\n",
       "    <tr style=\"text-align: right;\">\n",
       "      <th></th>\n",
       "      <th>pickup_longitude</th>\n",
       "      <th>pickup_latitude</th>\n",
       "      <th>dropoff_longitude</th>\n",
       "      <th>dropoff_latitude</th>\n",
       "      <th>passenger_count</th>\n",
       "    </tr>\n",
       "  </thead>\n",
       "  <tbody>\n",
       "    <tr>\n",
       "      <th>count</th>\n",
       "      <td>9914.000000</td>\n",
       "      <td>9914.000000</td>\n",
       "      <td>9914.000000</td>\n",
       "      <td>9914.000000</td>\n",
       "      <td>9914.000000</td>\n",
       "    </tr>\n",
       "    <tr>\n",
       "      <th>mean</th>\n",
       "      <td>-73.974722</td>\n",
       "      <td>40.751041</td>\n",
       "      <td>-73.973657</td>\n",
       "      <td>40.751743</td>\n",
       "      <td>1.671273</td>\n",
       "    </tr>\n",
       "    <tr>\n",
       "      <th>std</th>\n",
       "      <td>0.042774</td>\n",
       "      <td>0.033541</td>\n",
       "      <td>0.039072</td>\n",
       "      <td>0.035435</td>\n",
       "      <td>1.278747</td>\n",
       "    </tr>\n",
       "    <tr>\n",
       "      <th>min</th>\n",
       "      <td>-74.252193</td>\n",
       "      <td>40.573143</td>\n",
       "      <td>-74.263242</td>\n",
       "      <td>40.568973</td>\n",
       "      <td>1.000000</td>\n",
       "    </tr>\n",
       "    <tr>\n",
       "      <th>25%</th>\n",
       "      <td>-73.992501</td>\n",
       "      <td>40.736125</td>\n",
       "      <td>-73.991247</td>\n",
       "      <td>40.735254</td>\n",
       "      <td>1.000000</td>\n",
       "    </tr>\n",
       "    <tr>\n",
       "      <th>50%</th>\n",
       "      <td>-73.982326</td>\n",
       "      <td>40.753051</td>\n",
       "      <td>-73.980015</td>\n",
       "      <td>40.754065</td>\n",
       "      <td>1.000000</td>\n",
       "    </tr>\n",
       "    <tr>\n",
       "      <th>75%</th>\n",
       "      <td>-73.968013</td>\n",
       "      <td>40.767113</td>\n",
       "      <td>-73.964059</td>\n",
       "      <td>40.768757</td>\n",
       "      <td>2.000000</td>\n",
       "    </tr>\n",
       "    <tr>\n",
       "      <th>max</th>\n",
       "      <td>-72.986532</td>\n",
       "      <td>41.709555</td>\n",
       "      <td>-72.990963</td>\n",
       "      <td>41.696683</td>\n",
       "      <td>6.000000</td>\n",
       "    </tr>\n",
       "  </tbody>\n",
       "</table>\n",
       "</div>"
      ],
      "text/plain": [
       "       pickup_longitude  pickup_latitude  dropoff_longitude  dropoff_latitude  \\\n",
       "count       9914.000000      9914.000000        9914.000000       9914.000000   \n",
       "mean         -73.974722        40.751041         -73.973657         40.751743   \n",
       "std            0.042774         0.033541           0.039072          0.035435   \n",
       "min          -74.252193        40.573143         -74.263242         40.568973   \n",
       "25%          -73.992501        40.736125         -73.991247         40.735254   \n",
       "50%          -73.982326        40.753051         -73.980015         40.754065   \n",
       "75%          -73.968013        40.767113         -73.964059         40.768757   \n",
       "max          -72.986532        41.709555         -72.990963         41.696683   \n",
       "\n",
       "       passenger_count  \n",
       "count      9914.000000  \n",
       "mean          1.671273  \n",
       "std           1.278747  \n",
       "min           1.000000  \n",
       "25%           1.000000  \n",
       "50%           1.000000  \n",
       "75%           2.000000  \n",
       "max           6.000000  "
      ]
     },
     "execution_count": 7,
     "metadata": {},
     "output_type": "execute_result"
    }
   ],
   "source": [
    "test_df.describe()"
   ]
  },
  {
   "cell_type": "markdown",
   "metadata": {},
   "source": [
    "### First observations\n",
    "\n",
    "- There are negative fares.  \n",
    "- Is there any missing data? \n",
    "- How can there be 0 passengers?\n",
    "- To be useful for exploration and prediction, I'll need to convert the dates from a timestamp object to individual colums for different aspects like, hour of the day, month, year, etc."
   ]
  },
  {
   "cell_type": "markdown",
   "metadata": {},
   "source": [
    "### 1. (a) Missing Values"
   ]
  },
  {
   "cell_type": "code",
   "execution_count": 8,
   "metadata": {},
   "outputs": [
    {
     "data": {
      "text/html": [
       "<div>\n",
       "<style scoped>\n",
       "    .dataframe tbody tr th:only-of-type {\n",
       "        vertical-align: middle;\n",
       "    }\n",
       "\n",
       "    .dataframe tbody tr th {\n",
       "        vertical-align: top;\n",
       "    }\n",
       "\n",
       "    .dataframe thead th {\n",
       "        text-align: right;\n",
       "    }\n",
       "</style>\n",
       "<table border=\"1\" class=\"dataframe\">\n",
       "  <thead>\n",
       "    <tr style=\"text-align: right;\">\n",
       "      <th></th>\n",
       "      <th>fare_amount</th>\n",
       "      <th>pickup_datetime</th>\n",
       "      <th>pickup_longitude</th>\n",
       "      <th>pickup_latitude</th>\n",
       "      <th>dropoff_longitude</th>\n",
       "      <th>dropoff_latitude</th>\n",
       "      <th>passenger_count</th>\n",
       "    </tr>\n",
       "  </thead>\n",
       "  <tbody>\n",
       "    <tr>\n",
       "      <th>31</th>\n",
       "      <td>22.54</td>\n",
       "      <td>2015-06-21 21:46:34 UTC</td>\n",
       "      <td>-74.010483</td>\n",
       "      <td>40.717667</td>\n",
       "      <td>-73.985771</td>\n",
       "      <td>40.660366</td>\n",
       "      <td>NaN</td>\n",
       "    </tr>\n",
       "    <tr>\n",
       "      <th>64</th>\n",
       "      <td>7.3</td>\n",
       "      <td>2011-11-07 10:47:40 UTC</td>\n",
       "      <td>-74.003919</td>\n",
       "      <td>40.753019</td>\n",
       "      <td>-73.992368</td>\n",
       "      <td>40.735362</td>\n",
       "      <td>NaN</td>\n",
       "    </tr>\n",
       "    <tr>\n",
       "      <th>82</th>\n",
       "      <td>8.5</td>\n",
       "      <td>2013-06-14 08:27:43 UTC</td>\n",
       "      <td>-73.953710</td>\n",
       "      <td>40.790813</td>\n",
       "      <td>-73.957015</td>\n",
       "      <td>40.777676</td>\n",
       "      <td>NaN</td>\n",
       "    </tr>\n",
       "    <tr>\n",
       "      <th>97</th>\n",
       "      <td>9</td>\n",
       "      <td>2014-12-07 12:26:00 UTC</td>\n",
       "      <td>-73.984977</td>\n",
       "      <td>40.752122</td>\n",
       "      <td>-74.000925</td>\n",
       "      <td>40.757982</td>\n",
       "      <td>NaN</td>\n",
       "    </tr>\n",
       "    <tr>\n",
       "      <th>112</th>\n",
       "      <td>35</td>\n",
       "      <td>2012-12-06 18:05:00 UTC</td>\n",
       "      <td>-73.953310</td>\n",
       "      <td>40.787772</td>\n",
       "      <td>-73.944352</td>\n",
       "      <td>40.719772</td>\n",
       "      <td>NaN</td>\n",
       "    </tr>\n",
       "  </tbody>\n",
       "</table>\n",
       "</div>"
      ],
      "text/plain": [
       "    fare_amount          pickup_datetime  pickup_longitude  pickup_latitude  \\\n",
       "31        22.54  2015-06-21 21:46:34 UTC        -74.010483        40.717667   \n",
       "64          7.3  2011-11-07 10:47:40 UTC        -74.003919        40.753019   \n",
       "82          8.5  2013-06-14 08:27:43 UTC        -73.953710        40.790813   \n",
       "97            9  2014-12-07 12:26:00 UTC        -73.984977        40.752122   \n",
       "112          35  2012-12-06 18:05:00 UTC        -73.953310        40.787772   \n",
       "\n",
       "     dropoff_longitude  dropoff_latitude  passenger_count  \n",
       "31          -73.985771         40.660366              NaN  \n",
       "64          -73.992368         40.735362              NaN  \n",
       "82          -73.957015         40.777676              NaN  \n",
       "97          -74.000925         40.757982              NaN  \n",
       "112         -73.944352         40.719772              NaN  "
      ]
     },
     "execution_count": 8,
     "metadata": {},
     "output_type": "execute_result"
    }
   ],
   "source": [
    "# Replace missing passenger_count values with median of passenger_count column\n",
    "train_df[train_df.passenger_count.isnull()].head()"
   ]
  },
  {
   "cell_type": "code",
   "execution_count": 9,
   "metadata": {},
   "outputs": [],
   "source": [
    "train_df.loc[train_df.passenger_count.isnull(),['passenger_count']] = train_df.passenger_count.median()"
   ]
  },
  {
   "cell_type": "code",
   "execution_count": 10,
   "metadata": {},
   "outputs": [],
   "source": [
    "### remove records that contain NaN value\n",
    "train_df = train_df.dropna(how = 'any', axis = 'rows')\n",
    "test_df = test_df.dropna(how = 'any', axis = 'rows')"
   ]
  },
  {
   "cell_type": "code",
   "execution_count": 11,
   "metadata": {},
   "outputs": [
    {
     "data": {
      "text/plain": [
       "fare_amount          16043\n",
       "pickup_datetime      16043\n",
       "pickup_longitude     16043\n",
       "pickup_latitude      16043\n",
       "dropoff_longitude    16043\n",
       "dropoff_latitude     16043\n",
       "passenger_count      16043\n",
       "dtype: int64"
      ]
     },
     "execution_count": 11,
     "metadata": {},
     "output_type": "execute_result"
    }
   ],
   "source": [
    "train_df.count()"
   ]
  },
  {
   "cell_type": "code",
   "execution_count": 12,
   "metadata": {},
   "outputs": [
    {
     "data": {
      "text/plain": [
       "pickup_datetime      9914\n",
       "pickup_longitude     9914\n",
       "pickup_latitude      9914\n",
       "dropoff_longitude    9914\n",
       "dropoff_latitude     9914\n",
       "passenger_count      9914\n",
       "dtype: int64"
      ]
     },
     "execution_count": 12,
     "metadata": {},
     "output_type": "execute_result"
    }
   ],
   "source": [
    "test_df.count()"
   ]
  },
  {
   "cell_type": "code",
   "execution_count": 13,
   "metadata": {},
   "outputs": [],
   "source": [
    "# There is a row with fare_amount = '430-', removing that row as it prevents covertion of fare_amount to float dtype"
   ]
  },
  {
   "cell_type": "code",
   "execution_count": 14,
   "metadata": {},
   "outputs": [
    {
     "data": {
      "text/plain": [
       "fare_amount          16042\n",
       "pickup_datetime      16042\n",
       "pickup_longitude     16042\n",
       "pickup_latitude      16042\n",
       "dropoff_longitude    16042\n",
       "dropoff_latitude     16042\n",
       "passenger_count      16042\n",
       "dtype: int64"
      ]
     },
     "execution_count": 14,
     "metadata": {},
     "output_type": "execute_result"
    }
   ],
   "source": [
    "train_df = train_df[train_df['fare_amount'] != '430-']\n",
    "train_df.count()"
   ]
  },
  {
   "cell_type": "markdown",
   "metadata": {},
   "source": [
    "### 1. (b) Fixing Data Types & Removing Incorrect Data"
   ]
  },
  {
   "cell_type": "code",
   "execution_count": 15,
   "metadata": {},
   "outputs": [],
   "source": [
    "### change dtype of fare_amount to float\n",
    "train_df['fare_amount'] = train_df['fare_amount'].values.astype(np.float64)"
   ]
  },
  {
   "cell_type": "code",
   "execution_count": 16,
   "metadata": {},
   "outputs": [],
   "source": [
    "#Remove rows fare_amount less than 0 and passenger count less than 0\n",
    "train_df = train_df[(train_df['fare_amount'] > 0) & (train_df['passenger_count'] >= 1)]\n",
    "test_df = test_df[test_df['passenger_count'] > 0]"
   ]
  },
  {
   "cell_type": "code",
   "execution_count": 17,
   "metadata": {},
   "outputs": [
    {
     "data": {
      "text/plain": [
       "fare_amount          15980\n",
       "pickup_datetime      15980\n",
       "pickup_longitude     15980\n",
       "pickup_latitude      15980\n",
       "dropoff_longitude    15980\n",
       "dropoff_latitude     15980\n",
       "passenger_count      15980\n",
       "dtype: int64"
      ]
     },
     "execution_count": 17,
     "metadata": {},
     "output_type": "execute_result"
    }
   ],
   "source": [
    "train_df.count()"
   ]
  },
  {
   "cell_type": "markdown",
   "metadata": {},
   "source": [
    "### 1. (c) Outlier Ananlysis"
   ]
  },
  {
   "cell_type": "code",
   "execution_count": 18,
   "metadata": {},
   "outputs": [
    {
     "name": "stdout",
     "output_type": "stream",
     "text": [
      "fare_amount          6.500000\n",
      "pickup_longitude     0.025320\n",
      "pickup_latitude      0.032420\n",
      "dropoff_longitude    0.027535\n",
      "dropoff_latitude     0.033295\n",
      "passenger_count      1.000000\n",
      "dtype: float64\n"
     ]
    }
   ],
   "source": [
    "# Calculating Inter Quartile Range of train_df\n",
    "Q1 = train_df.quantile(0.25)\n",
    "Q3 = train_df.quantile(0.75)\n",
    "IQR = Q3 - Q1\n",
    "print(IQR)\n"
   ]
  },
  {
   "cell_type": "code",
   "execution_count": 19,
   "metadata": {},
   "outputs": [
    {
     "data": {
      "text/plain": [
       "(12075, 7)"
      ]
     },
     "execution_count": 19,
     "metadata": {},
     "output_type": "execute_result"
    }
   ],
   "source": [
    "# Removing outliers from train_df\n",
    "df_out = train_df[~((train_df < (Q1 - 1.5 * IQR)) |(train_df > (Q3 + 1.5 * IQR))).any(axis=1)]\n",
    "df_out.shape"
   ]
  },
  {
   "cell_type": "code",
   "execution_count": 20,
   "metadata": {},
   "outputs": [
    {
     "data": {
      "text/html": [
       "<div>\n",
       "<style scoped>\n",
       "    .dataframe tbody tr th:only-of-type {\n",
       "        vertical-align: middle;\n",
       "    }\n",
       "\n",
       "    .dataframe tbody tr th {\n",
       "        vertical-align: top;\n",
       "    }\n",
       "\n",
       "    .dataframe thead th {\n",
       "        text-align: right;\n",
       "    }\n",
       "</style>\n",
       "<table border=\"1\" class=\"dataframe\">\n",
       "  <thead>\n",
       "    <tr style=\"text-align: right;\">\n",
       "      <th></th>\n",
       "      <th>fare_amount</th>\n",
       "      <th>pickup_longitude</th>\n",
       "      <th>pickup_latitude</th>\n",
       "      <th>dropoff_longitude</th>\n",
       "      <th>dropoff_latitude</th>\n",
       "      <th>passenger_count</th>\n",
       "    </tr>\n",
       "  </thead>\n",
       "  <tbody>\n",
       "    <tr>\n",
       "      <th>count</th>\n",
       "      <td>12075.000000</td>\n",
       "      <td>12075.000000</td>\n",
       "      <td>12075.000000</td>\n",
       "      <td>12075.000000</td>\n",
       "      <td>12075.000000</td>\n",
       "      <td>12075.000000</td>\n",
       "    </tr>\n",
       "    <tr>\n",
       "      <th>mean</th>\n",
       "      <td>8.659131</td>\n",
       "      <td>-73.981782</td>\n",
       "      <td>40.752715</td>\n",
       "      <td>-73.980625</td>\n",
       "      <td>40.752996</td>\n",
       "      <td>1.254079</td>\n",
       "    </tr>\n",
       "    <tr>\n",
       "      <th>std</th>\n",
       "      <td>3.897290</td>\n",
       "      <td>0.016149</td>\n",
       "      <td>0.021586</td>\n",
       "      <td>0.017014</td>\n",
       "      <td>0.022848</td>\n",
       "      <td>0.532875</td>\n",
       "    </tr>\n",
       "    <tr>\n",
       "      <th>min</th>\n",
       "      <td>0.010000</td>\n",
       "      <td>-74.018108</td>\n",
       "      <td>40.686846</td>\n",
       "      <td>-74.019535</td>\n",
       "      <td>40.684917</td>\n",
       "      <td>1.000000</td>\n",
       "    </tr>\n",
       "    <tr>\n",
       "      <th>25%</th>\n",
       "      <td>5.700000</td>\n",
       "      <td>-73.992857</td>\n",
       "      <td>40.738247</td>\n",
       "      <td>-73.992026</td>\n",
       "      <td>40.738372</td>\n",
       "      <td>1.000000</td>\n",
       "    </tr>\n",
       "    <tr>\n",
       "      <th>50%</th>\n",
       "      <td>7.700000</td>\n",
       "      <td>-73.982738</td>\n",
       "      <td>40.753295</td>\n",
       "      <td>-73.981986</td>\n",
       "      <td>40.754446</td>\n",
       "      <td>1.000000</td>\n",
       "    </tr>\n",
       "    <tr>\n",
       "      <th>75%</th>\n",
       "      <td>10.500000</td>\n",
       "      <td>-73.971341</td>\n",
       "      <td>40.766750</td>\n",
       "      <td>-73.970264</td>\n",
       "      <td>40.767369</td>\n",
       "      <td>1.000000</td>\n",
       "    </tr>\n",
       "    <tr>\n",
       "      <th>max</th>\n",
       "      <td>22.100000</td>\n",
       "      <td>-73.929460</td>\n",
       "      <td>40.815984</td>\n",
       "      <td>-73.922377</td>\n",
       "      <td>40.817875</td>\n",
       "      <td>3.000000</td>\n",
       "    </tr>\n",
       "  </tbody>\n",
       "</table>\n",
       "</div>"
      ],
      "text/plain": [
       "        fare_amount  pickup_longitude  pickup_latitude  dropoff_longitude  \\\n",
       "count  12075.000000      12075.000000     12075.000000       12075.000000   \n",
       "mean       8.659131        -73.981782        40.752715         -73.980625   \n",
       "std        3.897290          0.016149         0.021586           0.017014   \n",
       "min        0.010000        -74.018108        40.686846         -74.019535   \n",
       "25%        5.700000        -73.992857        40.738247         -73.992026   \n",
       "50%        7.700000        -73.982738        40.753295         -73.981986   \n",
       "75%       10.500000        -73.971341        40.766750         -73.970264   \n",
       "max       22.100000        -73.929460        40.815984         -73.922377   \n",
       "\n",
       "       dropoff_latitude  passenger_count  \n",
       "count      12075.000000     12075.000000  \n",
       "mean          40.752996         1.254079  \n",
       "std            0.022848         0.532875  \n",
       "min           40.684917         1.000000  \n",
       "25%           40.738372         1.000000  \n",
       "50%           40.754446         1.000000  \n",
       "75%           40.767369         1.000000  \n",
       "max           40.817875         3.000000  "
      ]
     },
     "execution_count": 20,
     "metadata": {},
     "output_type": "execute_result"
    }
   ],
   "source": [
    "df_out.describe()"
   ]
  },
  {
   "cell_type": "markdown",
   "metadata": {},
   "source": [
    "### 1. (d) Preprocessing Data: Deriving Meaningful Variables"
   ]
  },
  {
   "cell_type": "code",
   "execution_count": 21,
   "metadata": {},
   "outputs": [],
   "source": [
    "import matplotlib"
   ]
  },
  {
   "cell_type": "code",
   "execution_count": 22,
   "metadata": {},
   "outputs": [
    {
     "data": {
      "text/plain": [
       "Text(0.5, 1.0, 'Dropoff locations')"
      ]
     },
     "execution_count": 22,
     "metadata": {},
     "output_type": "execute_result"
    },
    {
     "data": {
      "image/png": "[encoded data removed]",
      "text/plain": [
       "<Figure size 1152x576 with 2 Axes>"
      ]
     },
     "metadata": {
      "needs_background": "light"
     },
     "output_type": "display_data"
    }
   ],
   "source": [
    "fig, axs = plt.subplots(1, 2, figsize=(16,8))\n",
    "\n",
    "cmap=plt.cm.rainbow\n",
    "norm = matplotlib.colors.BoundaryNorm(np.arange(0,10,1), cmap.N)\n",
    "\n",
    "axs[0].scatter(df_out['pickup_latitude'], df_out['pickup_longitude'],\n",
    "            cmap=cmap, norm=norm, s=150, edgecolor='none')\n",
    "axs[0].set_xlabel('Latitude')\n",
    "axs[0].set_ylabel('Longitude')\n",
    "axs[0].set_title('Pickup locations')\n",
    "\n",
    "\n",
    "axs[1].scatter(df_out['dropoff_latitude'], df_out['dropoff_longitude'],\n",
    "            cmap=cmap, norm=norm, s=150, edgecolor='none')\n",
    "axs[1].set_xlabel('Latitude')\n",
    "axs[1].set_ylabel('Longitude')\n",
    "axs[1].set_title('Dropoff locations')\n"
   ]
  },
  {
   "cell_type": "markdown",
   "metadata": {},
   "source": [
    "## HDBSCAN Clustering of Geo Locations"
   ]
  },
  {
   "cell_type": "code",
   "execution_count": 23,
   "metadata": {},
   "outputs": [],
   "source": [
    "import hdbscan"
   ]
  },
  {
   "cell_type": "code",
   "execution_count": 24,
   "metadata": {},
   "outputs": [],
   "source": [
    "X = df_out[['pickup_latitude','pickup_longitude']]"
   ]
  },
  {
   "cell_type": "code",
   "execution_count": 25,
   "metadata": {},
   "outputs": [
    {
     "data": {
      "text/plain": [
       "(12075, 2)"
      ]
     },
     "execution_count": 25,
     "metadata": {},
     "output_type": "execute_result"
    }
   ],
   "source": [
    "X.shape"
   ]
  },
  {
   "cell_type": "code",
   "execution_count": 26,
   "metadata": {},
   "outputs": [
    {
     "data": {
      "text/plain": [
       "(12075, 2)"
      ]
     },
     "execution_count": 26,
     "metadata": {},
     "output_type": "execute_result"
    }
   ],
   "source": [
    "Y = df_out[['dropoff_latitude','dropoff_longitude']]\n",
    "Y.shape"
   ]
  },
  {
   "cell_type": "code",
   "execution_count": 27,
   "metadata": {},
   "outputs": [
    {
     "data": {
      "text/plain": [
       "24150"
      ]
     },
     "execution_count": 27,
     "metadata": {},
     "output_type": "execute_result"
    }
   ],
   "source": [
    "xval = np.append(X.pickup_latitude.values, Y.dropoff_latitude.values)\n",
    "xval\n",
    "len(xval)"
   ]
  },
  {
   "cell_type": "code",
   "execution_count": 28,
   "metadata": {},
   "outputs": [
    {
     "data": {
      "text/plain": [
       "24150"
      ]
     },
     "execution_count": 28,
     "metadata": {},
     "output_type": "execute_result"
    }
   ],
   "source": [
    "yval = np.append(X.pickup_longitude.values, Y.dropoff_longitude.values)\n",
    "yval\n",
    "len(yval)"
   ]
  },
  {
   "cell_type": "code",
   "execution_count": 29,
   "metadata": {},
   "outputs": [
    {
     "data": {
      "text/html": [
       "<div>\n",
       "<style scoped>\n",
       "    .dataframe tbody tr th:only-of-type {\n",
       "        vertical-align: middle;\n",
       "    }\n",
       "\n",
       "    .dataframe tbody tr th {\n",
       "        vertical-align: top;\n",
       "    }\n",
       "\n",
       "    .dataframe thead th {\n",
       "        text-align: right;\n",
       "    }\n",
       "</style>\n",
       "<table border=\"1\" class=\"dataframe\">\n",
       "  <thead>\n",
       "    <tr style=\"text-align: right;\">\n",
       "      <th></th>\n",
       "      <th>lat</th>\n",
       "      <th>lon</th>\n",
       "    </tr>\n",
       "  </thead>\n",
       "  <tbody>\n",
       "    <tr>\n",
       "      <th>0</th>\n",
       "      <td>40.711303</td>\n",
       "      <td>-74.016048</td>\n",
       "    </tr>\n",
       "    <tr>\n",
       "      <th>1</th>\n",
       "      <td>40.761270</td>\n",
       "      <td>-73.982738</td>\n",
       "    </tr>\n",
       "    <tr>\n",
       "      <th>2</th>\n",
       "      <td>40.733143</td>\n",
       "      <td>-73.987130</td>\n",
       "    </tr>\n",
       "    <tr>\n",
       "      <th>3</th>\n",
       "      <td>40.768008</td>\n",
       "      <td>-73.968095</td>\n",
       "    </tr>\n",
       "    <tr>\n",
       "      <th>4</th>\n",
       "      <td>40.731630</td>\n",
       "      <td>-74.000964</td>\n",
       "    </tr>\n",
       "  </tbody>\n",
       "</table>\n",
       "</div>"
      ],
      "text/plain": [
       "         lat        lon\n",
       "0  40.711303 -74.016048\n",
       "1  40.761270 -73.982738\n",
       "2  40.733143 -73.987130\n",
       "3  40.768008 -73.968095\n",
       "4  40.731630 -74.000964"
      ]
     },
     "execution_count": 29,
     "metadata": {},
     "output_type": "execute_result"
    }
   ],
   "source": [
    "Z = pd.DataFrame({'lat':xval,'lon':yval})\n",
    "Z.head()"
   ]
  },
  {
   "cell_type": "code",
   "execution_count": 30,
   "metadata": {},
   "outputs": [
    {
     "data": {
      "text/plain": [
       "(24150, 2)"
      ]
     },
     "execution_count": 30,
     "metadata": {},
     "output_type": "execute_result"
    }
   ],
   "source": [
    "Z.shape"
   ]
  },
  {
   "cell_type": "code",
   "execution_count": 31,
   "metadata": {},
   "outputs": [
    {
     "name": "stderr",
     "output_type": "stream",
     "text": [
      "C:\\Users\\Welcome\\Anaconda3\\lib\\site-packages\\sklearn\\externals\\joblib\\parallel.py:268: DeprecationWarning: check_pickle is deprecated in joblib 0.12 and will be removed in 0.13\n",
      "  ' removed in 0.13', DeprecationWarning)\n",
      "C:\\Users\\Welcome\\Anaconda3\\lib\\site-packages\\sklearn\\externals\\joblib\\parallel.py:268: DeprecationWarning: check_pickle is deprecated in joblib 0.12 and will be removed in 0.13\n",
      "  ' removed in 0.13', DeprecationWarning)\n",
      "C:\\Users\\Welcome\\Anaconda3\\lib\\site-packages\\sklearn\\externals\\joblib\\parallel.py:268: DeprecationWarning: check_pickle is deprecated in joblib 0.12 and will be removed in 0.13\n",
      "  ' removed in 0.13', DeprecationWarning)\n",
      "C:\\Users\\Welcome\\Anaconda3\\lib\\site-packages\\sklearn\\externals\\joblib\\parallel.py:268: DeprecationWarning: check_pickle is deprecated in joblib 0.12 and will be removed in 0.13\n",
      "  ' removed in 0.13', DeprecationWarning)\n"
     ]
    }
   ],
   "source": [
    "rads = np.radians(Z)\n",
    "clusterer = hdbscan.HDBSCAN(min_cluster_size=2, metric='haversine',prediction_data=True).fit(rads)"
   ]
  },
  {
   "cell_type": "code",
   "execution_count": 32,
   "metadata": {},
   "outputs": [],
   "source": [
    "# There is one 'pickup_datetime' that is 43\n",
    "df_out = df_out[df_out['pickup_datetime'] != '43'] "
   ]
  },
  {
   "cell_type": "code",
   "execution_count": 33,
   "metadata": {},
   "outputs": [],
   "source": [
    "### function that get a clusterer, using HDBScan technique\n",
    "def add_cluster(df):\n",
    "    \n",
    "    ### predict cluster\n",
    "    pickup_area = hdbscan.approximate_predict(clusterer, np.radians(df[['pickup_latitude', 'pickup_longitude']].values))[0]\n",
    "    dropoff_area = hdbscan.approximate_predict(clusterer, np.radians(df[['dropoff_latitude', 'dropoff_longitude']].values))[0]\n",
    "\n",
    "    df['pickup_area'] = pickup_area\n",
    "    df['dropoff_area'] = dropoff_area\n",
    "\n",
    "    del pickup_area\n",
    "    del dropoff_area\n",
    "  \n",
    "    return df"
   ]
  },
  {
   "cell_type": "code",
   "execution_count": 34,
   "metadata": {},
   "outputs": [],
   "source": [
    "### function that calcuates distance between two locations\n",
    "def getDistance(lat1,lon1,lat2,lon2):\n",
    "    r = 6373 # earth's radius\n",
    "    lat1 = np.deg2rad(lat1)\n",
    "    lon1 = np.deg2rad(lon1)\n",
    "    lat2 = np.deg2rad(lat2)\n",
    "    lon2 = np.deg2rad(lon2)\n",
    "    \n",
    "    dlat = lat2 - lat1\n",
    "    dlon = lon2 - lon1\n",
    "    \n",
    "    a = np.sin(dlat/2)**2 + np.cos(lat1) * np.cos(lat2) * np.sin(dlon/2)**2\n",
    "    c = 2 * np.arctan2(np.sqrt(a), np.sqrt(1-a))\n",
    "    distance = r*c\n",
    "    \n",
    "    return distance\n",
    "\n",
    "\n",
    "### function that calculates distance between pickup location and dropoff location\n",
    "def add_dist(df):\n",
    "    df['distance'] = getDistance(df.pickup_latitude, df.pickup_longitude, \n",
    "                                      df.dropoff_latitude, df.dropoff_longitude)\n",
    "    return df\n",
    "\n",
    "### function that splits datetime into categorical data\n",
    "def add_datetime(df):\n",
    "    df['pickup_datetime'] = pd.to_datetime(df['pickup_datetime'], format=\"%Y-%m-%d %H:%M:%S UTC\")\n",
    "    df['year'] = df.pickup_datetime.dt.year\n",
    "    df['month'] = df.pickup_datetime.dt.month\n",
    "    df['day'] = df.pickup_datetime.dt.day\n",
    "    df['hour'] = df.pickup_datetime.dt.hour\n",
    "    df['dayOfWeek'] = df.pickup_datetime.dt.dayofweek\n",
    "    \n",
    "    return df\n",
    "\n",
    "### function that convert latitudes and longtitudes to radians format\n",
    "def convert_to_radians(df):\n",
    "    df['pickup_latitude'] = np.deg2rad(df['pickup_latitude'].values)\n",
    "    df['pickup_longitude'] = np.deg2rad(df['pickup_longitude'].values)\n",
    "    df['dropoff_latitude'] = np.deg2rad(df['dropoff_latitude'].values)\n",
    "    df['dropoff_longitude'] = np.deg2rad(df['dropoff_longitude'].values)\n",
    "    return df\n",
    "  \n",
    "### function that preprocess data before training the model\n",
    "def preprocess_data(df):\n",
    "\n",
    "    df = add_cluster(df)\n",
    "    df = add_dist(df)\n",
    "    df = add_datetime(df)\n",
    "    df = convert_to_radians(df)\n",
    "    \n",
    "    return df"
   ]
  },
  {
   "cell_type": "code",
   "execution_count": 35,
   "metadata": {},
   "outputs": [],
   "source": [
    "df = preprocess_data(df_out)\n",
    "test_df = preprocess_data(test_df)"
   ]
  },
  {
   "cell_type": "code",
   "execution_count": 36,
   "metadata": {},
   "outputs": [
    {
     "data": {
      "text/html": [
       "<div>\n",
       "<style scoped>\n",
       "    .dataframe tbody tr th:only-of-type {\n",
       "        vertical-align: middle;\n",
       "    }\n",
       "\n",
       "    .dataframe tbody tr th {\n",
       "        vertical-align: top;\n",
       "    }\n",
       "\n",
       "    .dataframe thead th {\n",
       "        text-align: right;\n",
       "    }\n",
       "</style>\n",
       "<table border=\"1\" class=\"dataframe\">\n",
       "  <thead>\n",
       "    <tr style=\"text-align: right;\">\n",
       "      <th></th>\n",
       "      <th>fare_amount</th>\n",
       "      <th>pickup_datetime</th>\n",
       "      <th>pickup_longitude</th>\n",
       "      <th>pickup_latitude</th>\n",
       "      <th>dropoff_longitude</th>\n",
       "      <th>dropoff_latitude</th>\n",
       "      <th>passenger_count</th>\n",
       "      <th>pickup_area</th>\n",
       "      <th>dropoff_area</th>\n",
       "      <th>distance</th>\n",
       "      <th>year</th>\n",
       "      <th>month</th>\n",
       "      <th>day</th>\n",
       "      <th>hour</th>\n",
       "      <th>dayOfWeek</th>\n",
       "    </tr>\n",
       "  </thead>\n",
       "  <tbody>\n",
       "    <tr>\n",
       "      <th>1</th>\n",
       "      <td>16.9</td>\n",
       "      <td>2010-01-05 16:52:16</td>\n",
       "      <td>-1.291824</td>\n",
       "      <td>0.710546</td>\n",
       "      <td>-1.291182</td>\n",
       "      <td>0.711780</td>\n",
       "      <td>1.0</td>\n",
       "      <td>918</td>\n",
       "      <td>-1</td>\n",
       "      <td>8.452786</td>\n",
       "      <td>2010</td>\n",
       "      <td>1</td>\n",
       "      <td>5</td>\n",
       "      <td>16</td>\n",
       "      <td>1</td>\n",
       "    </tr>\n",
       "    <tr>\n",
       "      <th>2</th>\n",
       "      <td>5.7</td>\n",
       "      <td>2011-08-18 00:35:00</td>\n",
       "      <td>-1.291242</td>\n",
       "      <td>0.711418</td>\n",
       "      <td>-1.291391</td>\n",
       "      <td>0.711231</td>\n",
       "      <td>2.0</td>\n",
       "      <td>-1</td>\n",
       "      <td>-1</td>\n",
       "      <td>1.389961</td>\n",
       "      <td>2011</td>\n",
       "      <td>8</td>\n",
       "      <td>18</td>\n",
       "      <td>0</td>\n",
       "      <td>3</td>\n",
       "    </tr>\n",
       "    <tr>\n",
       "      <th>3</th>\n",
       "      <td>7.7</td>\n",
       "      <td>2012-04-21 04:30:42</td>\n",
       "      <td>-1.291319</td>\n",
       "      <td>0.710927</td>\n",
       "      <td>-1.291396</td>\n",
       "      <td>0.711363</td>\n",
       "      <td>1.0</td>\n",
       "      <td>-1</td>\n",
       "      <td>5252</td>\n",
       "      <td>2.800149</td>\n",
       "      <td>2012</td>\n",
       "      <td>4</td>\n",
       "      <td>21</td>\n",
       "      <td>4</td>\n",
       "      <td>5</td>\n",
       "    </tr>\n",
       "    <tr>\n",
       "      <th>4</th>\n",
       "      <td>5.3</td>\n",
       "      <td>2010-03-09 07:51:00</td>\n",
       "      <td>-1.290987</td>\n",
       "      <td>0.711536</td>\n",
       "      <td>-1.290787</td>\n",
       "      <td>0.711811</td>\n",
       "      <td>1.0</td>\n",
       "      <td>-1</td>\n",
       "      <td>2339</td>\n",
       "      <td>1.999784</td>\n",
       "      <td>2010</td>\n",
       "      <td>3</td>\n",
       "      <td>9</td>\n",
       "      <td>7</td>\n",
       "      <td>1</td>\n",
       "    </tr>\n",
       "    <tr>\n",
       "      <th>5</th>\n",
       "      <td>12.1</td>\n",
       "      <td>2011-01-06 09:50:45</td>\n",
       "      <td>-1.291560</td>\n",
       "      <td>0.710901</td>\n",
       "      <td>-1.291071</td>\n",
       "      <td>0.711365</td>\n",
       "      <td>1.0</td>\n",
       "      <td>3934</td>\n",
       "      <td>6875</td>\n",
       "      <td>3.788428</td>\n",
       "      <td>2011</td>\n",
       "      <td>1</td>\n",
       "      <td>6</td>\n",
       "      <td>9</td>\n",
       "      <td>3</td>\n",
       "    </tr>\n",
       "  </tbody>\n",
       "</table>\n",
       "</div>"
      ],
      "text/plain": [
       "   fare_amount     pickup_datetime  pickup_longitude  pickup_latitude  \\\n",
       "1         16.9 2010-01-05 16:52:16         -1.291824         0.710546   \n",
       "2          5.7 2011-08-18 00:35:00         -1.291242         0.711418   \n",
       "3          7.7 2012-04-21 04:30:42         -1.291319         0.710927   \n",
       "4          5.3 2010-03-09 07:51:00         -1.290987         0.711536   \n",
       "5         12.1 2011-01-06 09:50:45         -1.291560         0.710901   \n",
       "\n",
       "   dropoff_longitude  dropoff_latitude  passenger_count  pickup_area  \\\n",
       "1          -1.291182          0.711780              1.0          918   \n",
       "2          -1.291391          0.711231              2.0           -1   \n",
       "3          -1.291396          0.711363              1.0           -1   \n",
       "4          -1.290787          0.711811              1.0           -1   \n",
       "5          -1.291071          0.711365              1.0         3934   \n",
       "\n",
       "   dropoff_area  distance  year  month  day  hour  dayOfWeek  \n",
       "1            -1  8.452786  2010      1    5    16          1  \n",
       "2            -1  1.389961  2011      8   18     0          3  \n",
       "3          5252  2.800149  2012      4   21     4          5  \n",
       "4          2339  1.999784  2010      3    9     7          1  \n",
       "5          6875  3.788428  2011      1    6     9          3  "
      ]
     },
     "execution_count": 36,
     "metadata": {},
     "output_type": "execute_result"
    }
   ],
   "source": [
    "df.head()"
   ]
  },
  {
   "cell_type": "code",
   "execution_count": 37,
   "metadata": {},
   "outputs": [
    {
     "name": "stdout",
     "output_type": "stream",
     "text": [
      "<class 'pandas.core.frame.DataFrame'>\n",
      "Int64Index: 12074 entries, 1 to 16066\n",
      "Data columns (total 15 columns):\n",
      "fare_amount          12074 non-null float64\n",
      "pickup_datetime      12074 non-null datetime64[ns]\n",
      "pickup_longitude     12074 non-null float64\n",
      "pickup_latitude      12074 non-null float64\n",
      "dropoff_longitude    12074 non-null float64\n",
      "dropoff_latitude     12074 non-null float64\n",
      "passenger_count      12074 non-null float64\n",
      "pickup_area          12074 non-null int32\n",
      "dropoff_area         12074 non-null int32\n",
      "distance             12074 non-null float64\n",
      "year                 12074 non-null int64\n",
      "month                12074 non-null int64\n",
      "day                  12074 non-null int64\n",
      "hour                 12074 non-null int64\n",
      "dayOfWeek            12074 non-null int64\n",
      "dtypes: datetime64[ns](1), float64(7), int32(2), int64(5)\n",
      "memory usage: 1.4 MB\n"
     ]
    }
   ],
   "source": [
    "df.info()"
   ]
  },
  {
   "cell_type": "code",
   "execution_count": 38,
   "metadata": {},
   "outputs": [
    {
     "data": {
      "text/html": [
       "<div>\n",
       "<style scoped>\n",
       "    .dataframe tbody tr th:only-of-type {\n",
       "        vertical-align: middle;\n",
       "    }\n",
       "\n",
       "    .dataframe tbody tr th {\n",
       "        vertical-align: top;\n",
       "    }\n",
       "\n",
       "    .dataframe thead th {\n",
       "        text-align: right;\n",
       "    }\n",
       "</style>\n",
       "<table border=\"1\" class=\"dataframe\">\n",
       "  <thead>\n",
       "    <tr style=\"text-align: right;\">\n",
       "      <th></th>\n",
       "      <th>pickup_datetime</th>\n",
       "      <th>pickup_longitude</th>\n",
       "      <th>pickup_latitude</th>\n",
       "      <th>dropoff_longitude</th>\n",
       "      <th>dropoff_latitude</th>\n",
       "      <th>passenger_count</th>\n",
       "      <th>pickup_area</th>\n",
       "      <th>dropoff_area</th>\n",
       "      <th>distance</th>\n",
       "      <th>year</th>\n",
       "      <th>month</th>\n",
       "      <th>day</th>\n",
       "      <th>hour</th>\n",
       "      <th>dayOfWeek</th>\n",
       "    </tr>\n",
       "  </thead>\n",
       "  <tbody>\n",
       "    <tr>\n",
       "      <th>0</th>\n",
       "      <td>2015-01-27 13:08:24+00:00</td>\n",
       "      <td>-1.291078</td>\n",
       "      <td>0.711463</td>\n",
       "      <td>-1.291220</td>\n",
       "      <td>0.711114</td>\n",
       "      <td>1</td>\n",
       "      <td>-1</td>\n",
       "      <td>5181</td>\n",
       "      <td>2.323989</td>\n",
       "      <td>2015</td>\n",
       "      <td>1</td>\n",
       "      <td>27</td>\n",
       "      <td>13</td>\n",
       "      <td>1</td>\n",
       "    </tr>\n",
       "    <tr>\n",
       "      <th>1</th>\n",
       "      <td>2015-01-27 13:08:24+00:00</td>\n",
       "      <td>-1.291314</td>\n",
       "      <td>0.710687</td>\n",
       "      <td>-1.291524</td>\n",
       "      <td>0.711033</td>\n",
       "      <td>1</td>\n",
       "      <td>3040</td>\n",
       "      <td>-1</td>\n",
       "      <td>2.426114</td>\n",
       "      <td>2015</td>\n",
       "      <td>1</td>\n",
       "      <td>27</td>\n",
       "      <td>13</td>\n",
       "      <td>1</td>\n",
       "    </tr>\n",
       "    <tr>\n",
       "      <th>2</th>\n",
       "      <td>2011-10-08 11:53:44+00:00</td>\n",
       "      <td>-1.291239</td>\n",
       "      <td>0.711244</td>\n",
       "      <td>-1.291189</td>\n",
       "      <td>0.711154</td>\n",
       "      <td>1</td>\n",
       "      <td>5361</td>\n",
       "      <td>-1</td>\n",
       "      <td>0.618822</td>\n",
       "      <td>2011</td>\n",
       "      <td>10</td>\n",
       "      <td>8</td>\n",
       "      <td>11</td>\n",
       "      <td>5</td>\n",
       "    </tr>\n",
       "    <tr>\n",
       "      <th>3</th>\n",
       "      <td>2012-12-01 21:12:12+00:00</td>\n",
       "      <td>-1.291215</td>\n",
       "      <td>0.711532</td>\n",
       "      <td>-1.291377</td>\n",
       "      <td>0.711250</td>\n",
       "      <td>1</td>\n",
       "      <td>5791</td>\n",
       "      <td>-1</td>\n",
       "      <td>1.961648</td>\n",
       "      <td>2012</td>\n",
       "      <td>12</td>\n",
       "      <td>1</td>\n",
       "      <td>21</td>\n",
       "      <td>5</td>\n",
       "    </tr>\n",
       "    <tr>\n",
       "      <th>4</th>\n",
       "      <td>2012-12-01 21:12:12+00:00</td>\n",
       "      <td>-1.290951</td>\n",
       "      <td>0.711916</td>\n",
       "      <td>-1.291344</td>\n",
       "      <td>0.711124</td>\n",
       "      <td>1</td>\n",
       "      <td>-1</td>\n",
       "      <td>-1</td>\n",
       "      <td>5.388992</td>\n",
       "      <td>2012</td>\n",
       "      <td>12</td>\n",
       "      <td>1</td>\n",
       "      <td>21</td>\n",
       "      <td>5</td>\n",
       "    </tr>\n",
       "  </tbody>\n",
       "</table>\n",
       "</div>"
      ],
      "text/plain": [
       "            pickup_datetime  pickup_longitude  pickup_latitude  \\\n",
       "0 2015-01-27 13:08:24+00:00         -1.291078         0.711463   \n",
       "1 2015-01-27 13:08:24+00:00         -1.291314         0.710687   \n",
       "2 2011-10-08 11:53:44+00:00         -1.291239         0.711244   \n",
       "3 2012-12-01 21:12:12+00:00         -1.291215         0.711532   \n",
       "4 2012-12-01 21:12:12+00:00         -1.290951         0.711916   \n",
       "\n",
       "   dropoff_longitude  dropoff_latitude  passenger_count  pickup_area  \\\n",
       "0          -1.291220          0.711114                1           -1   \n",
       "1          -1.291524          0.711033                1         3040   \n",
       "2          -1.291189          0.711154                1         5361   \n",
       "3          -1.291377          0.711250                1         5791   \n",
       "4          -1.291344          0.711124                1           -1   \n",
       "\n",
       "   dropoff_area  distance  year  month  day  hour  dayOfWeek  \n",
       "0          5181  2.323989  2015      1   27    13          1  \n",
       "1            -1  2.426114  2015      1   27    13          1  \n",
       "2            -1  0.618822  2011     10    8    11          5  \n",
       "3            -1  1.961648  2012     12    1    21          5  \n",
       "4            -1  5.388992  2012     12    1    21          5  "
      ]
     },
     "execution_count": 38,
     "metadata": {},
     "output_type": "execute_result"
    }
   ],
   "source": [
    "test_df.head()"
   ]
  },
  {
   "cell_type": "code",
   "execution_count": 39,
   "metadata": {},
   "outputs": [
    {
     "name": "stdout",
     "output_type": "stream",
     "text": [
      "<class 'pandas.core.frame.DataFrame'>\n",
      "Int64Index: 9914 entries, 0 to 9913\n",
      "Data columns (total 14 columns):\n",
      "pickup_datetime      9914 non-null datetime64[ns, UTC]\n",
      "pickup_longitude     9914 non-null float64\n",
      "pickup_latitude      9914 non-null float64\n",
      "dropoff_longitude    9914 non-null float64\n",
      "dropoff_latitude     9914 non-null float64\n",
      "passenger_count      9914 non-null int64\n",
      "pickup_area          9914 non-null int32\n",
      "dropoff_area         9914 non-null int32\n",
      "distance             9914 non-null float64\n",
      "year                 9914 non-null int64\n",
      "month                9914 non-null int64\n",
      "day                  9914 non-null int64\n",
      "hour                 9914 non-null int64\n",
      "dayOfWeek            9914 non-null int64\n",
      "dtypes: datetime64[ns, UTC](1), float64(5), int32(2), int64(6)\n",
      "memory usage: 1.1 MB\n"
     ]
    }
   ],
   "source": [
    "test_df.info()"
   ]
  },
  {
   "cell_type": "markdown",
   "metadata": {},
   "source": [
    "## 2. Exploratory Data Analysis"
   ]
  },
  {
   "cell_type": "code",
   "execution_count": 40,
   "metadata": {},
   "outputs": [
    {
     "data": {
      "text/html": [
       "<div>\n",
       "<style scoped>\n",
       "    .dataframe tbody tr th:only-of-type {\n",
       "        vertical-align: middle;\n",
       "    }\n",
       "\n",
       "    .dataframe tbody tr th {\n",
       "        vertical-align: top;\n",
       "    }\n",
       "\n",
       "    .dataframe thead th {\n",
       "        text-align: right;\n",
       "    }\n",
       "</style>\n",
       "<table border=\"1\" class=\"dataframe\">\n",
       "  <thead>\n",
       "    <tr style=\"text-align: right;\">\n",
       "      <th></th>\n",
       "      <th>fare_amount</th>\n",
       "      <th>pickup_longitude</th>\n",
       "      <th>pickup_latitude</th>\n",
       "      <th>dropoff_longitude</th>\n",
       "      <th>dropoff_latitude</th>\n",
       "      <th>passenger_count</th>\n",
       "      <th>pickup_area</th>\n",
       "      <th>dropoff_area</th>\n",
       "      <th>distance</th>\n",
       "      <th>year</th>\n",
       "      <th>month</th>\n",
       "      <th>day</th>\n",
       "      <th>hour</th>\n",
       "      <th>dayOfWeek</th>\n",
       "    </tr>\n",
       "  </thead>\n",
       "  <tbody>\n",
       "    <tr>\n",
       "      <th>fare_amount</th>\n",
       "      <td>1.000000</td>\n",
       "      <td>-0.062386</td>\n",
       "      <td>-0.075212</td>\n",
       "      <td>0.008967</td>\n",
       "      <td>-0.088434</td>\n",
       "      <td>0.020483</td>\n",
       "      <td>-0.023860</td>\n",
       "      <td>-0.049592</td>\n",
       "      <td>0.817396</td>\n",
       "      <td>0.153205</td>\n",
       "      <td>0.036309</td>\n",
       "      <td>-0.015379</td>\n",
       "      <td>0.002953</td>\n",
       "      <td>0.006747</td>\n",
       "    </tr>\n",
       "    <tr>\n",
       "      <th>pickup_longitude</th>\n",
       "      <td>-0.062386</td>\n",
       "      <td>1.000000</td>\n",
       "      <td>0.674762</td>\n",
       "      <td>0.403841</td>\n",
       "      <td>0.340992</td>\n",
       "      <td>-0.040885</td>\n",
       "      <td>-0.014614</td>\n",
       "      <td>-0.015334</td>\n",
       "      <td>-0.062347</td>\n",
       "      <td>-0.005914</td>\n",
       "      <td>-0.004403</td>\n",
       "      <td>0.006956</td>\n",
       "      <td>0.017926</td>\n",
       "      <td>-0.064265</td>\n",
       "    </tr>\n",
       "    <tr>\n",
       "      <th>pickup_latitude</th>\n",
       "      <td>-0.075212</td>\n",
       "      <td>0.674762</td>\n",
       "      <td>1.000000</td>\n",
       "      <td>0.315343</td>\n",
       "      <td>0.517528</td>\n",
       "      <td>-0.021762</td>\n",
       "      <td>0.020312</td>\n",
       "      <td>-0.001458</td>\n",
       "      <td>-0.074461</td>\n",
       "      <td>-0.005012</td>\n",
       "      <td>0.004351</td>\n",
       "      <td>-0.003095</td>\n",
       "      <td>0.045932</td>\n",
       "      <td>-0.070694</td>\n",
       "    </tr>\n",
       "    <tr>\n",
       "      <th>dropoff_longitude</th>\n",
       "      <td>0.008967</td>\n",
       "      <td>0.403841</td>\n",
       "      <td>0.315343</td>\n",
       "      <td>1.000000</td>\n",
       "      <td>0.611156</td>\n",
       "      <td>-0.025373</td>\n",
       "      <td>-0.010059</td>\n",
       "      <td>-0.048436</td>\n",
       "      <td>0.043211</td>\n",
       "      <td>0.010444</td>\n",
       "      <td>0.008403</td>\n",
       "      <td>0.005815</td>\n",
       "      <td>-0.002979</td>\n",
       "      <td>-0.038515</td>\n",
       "    </tr>\n",
       "    <tr>\n",
       "      <th>dropoff_latitude</th>\n",
       "      <td>-0.088434</td>\n",
       "      <td>0.340992</td>\n",
       "      <td>0.517528</td>\n",
       "      <td>0.611156</td>\n",
       "      <td>1.000000</td>\n",
       "      <td>-0.009078</td>\n",
       "      <td>0.006502</td>\n",
       "      <td>0.017809</td>\n",
       "      <td>-0.045074</td>\n",
       "      <td>0.001117</td>\n",
       "      <td>0.015116</td>\n",
       "      <td>0.006331</td>\n",
       "      <td>0.035498</td>\n",
       "      <td>-0.045013</td>\n",
       "    </tr>\n",
       "    <tr>\n",
       "      <th>passenger_count</th>\n",
       "      <td>0.020483</td>\n",
       "      <td>-0.040885</td>\n",
       "      <td>-0.021762</td>\n",
       "      <td>-0.025373</td>\n",
       "      <td>-0.009078</td>\n",
       "      <td>1.000000</td>\n",
       "      <td>-0.002854</td>\n",
       "      <td>0.018234</td>\n",
       "      <td>0.007974</td>\n",
       "      <td>-0.022965</td>\n",
       "      <td>0.017870</td>\n",
       "      <td>0.001735</td>\n",
       "      <td>0.040876</td>\n",
       "      <td>0.077151</td>\n",
       "    </tr>\n",
       "    <tr>\n",
       "      <th>pickup_area</th>\n",
       "      <td>-0.023860</td>\n",
       "      <td>-0.014614</td>\n",
       "      <td>0.020312</td>\n",
       "      <td>-0.010059</td>\n",
       "      <td>0.006502</td>\n",
       "      <td>-0.002854</td>\n",
       "      <td>1.000000</td>\n",
       "      <td>0.022241</td>\n",
       "      <td>-0.042811</td>\n",
       "      <td>0.008093</td>\n",
       "      <td>0.008956</td>\n",
       "      <td>-0.014137</td>\n",
       "      <td>0.027414</td>\n",
       "      <td>-0.014422</td>\n",
       "    </tr>\n",
       "    <tr>\n",
       "      <th>dropoff_area</th>\n",
       "      <td>-0.049592</td>\n",
       "      <td>-0.015334</td>\n",
       "      <td>-0.001458</td>\n",
       "      <td>-0.048436</td>\n",
       "      <td>0.017809</td>\n",
       "      <td>0.018234</td>\n",
       "      <td>0.022241</td>\n",
       "      <td>1.000000</td>\n",
       "      <td>-0.070187</td>\n",
       "      <td>-0.010289</td>\n",
       "      <td>0.007425</td>\n",
       "      <td>-0.007946</td>\n",
       "      <td>-0.017069</td>\n",
       "      <td>-0.010724</td>\n",
       "    </tr>\n",
       "    <tr>\n",
       "      <th>distance</th>\n",
       "      <td>0.817396</td>\n",
       "      <td>-0.062347</td>\n",
       "      <td>-0.074461</td>\n",
       "      <td>0.043211</td>\n",
       "      <td>-0.045074</td>\n",
       "      <td>0.007974</td>\n",
       "      <td>-0.042811</td>\n",
       "      <td>-0.070187</td>\n",
       "      <td>1.000000</td>\n",
       "      <td>-0.020079</td>\n",
       "      <td>0.006953</td>\n",
       "      <td>-0.006590</td>\n",
       "      <td>-0.021487</td>\n",
       "      <td>0.027055</td>\n",
       "    </tr>\n",
       "    <tr>\n",
       "      <th>year</th>\n",
       "      <td>0.153205</td>\n",
       "      <td>-0.005914</td>\n",
       "      <td>-0.005012</td>\n",
       "      <td>0.010444</td>\n",
       "      <td>0.001117</td>\n",
       "      <td>-0.022965</td>\n",
       "      <td>0.008093</td>\n",
       "      <td>-0.010289</td>\n",
       "      <td>-0.020079</td>\n",
       "      <td>1.000000</td>\n",
       "      <td>-0.113680</td>\n",
       "      <td>-0.036748</td>\n",
       "      <td>0.003631</td>\n",
       "      <td>0.003915</td>\n",
       "    </tr>\n",
       "    <tr>\n",
       "      <th>month</th>\n",
       "      <td>0.036309</td>\n",
       "      <td>-0.004403</td>\n",
       "      <td>0.004351</td>\n",
       "      <td>0.008403</td>\n",
       "      <td>0.015116</td>\n",
       "      <td>0.017870</td>\n",
       "      <td>0.008956</td>\n",
       "      <td>0.007425</td>\n",
       "      <td>0.006953</td>\n",
       "      <td>-0.113680</td>\n",
       "      <td>1.000000</td>\n",
       "      <td>-0.013523</td>\n",
       "      <td>-0.006016</td>\n",
       "      <td>-0.019027</td>\n",
       "    </tr>\n",
       "    <tr>\n",
       "      <th>day</th>\n",
       "      <td>-0.015379</td>\n",
       "      <td>0.006956</td>\n",
       "      <td>-0.003095</td>\n",
       "      <td>0.005815</td>\n",
       "      <td>0.006331</td>\n",
       "      <td>0.001735</td>\n",
       "      <td>-0.014137</td>\n",
       "      <td>-0.007946</td>\n",
       "      <td>-0.006590</td>\n",
       "      <td>-0.036748</td>\n",
       "      <td>-0.013523</td>\n",
       "      <td>1.000000</td>\n",
       "      <td>0.003558</td>\n",
       "      <td>0.014382</td>\n",
       "    </tr>\n",
       "    <tr>\n",
       "      <th>hour</th>\n",
       "      <td>0.002953</td>\n",
       "      <td>0.017926</td>\n",
       "      <td>0.045932</td>\n",
       "      <td>-0.002979</td>\n",
       "      <td>0.035498</td>\n",
       "      <td>0.040876</td>\n",
       "      <td>0.027414</td>\n",
       "      <td>-0.017069</td>\n",
       "      <td>-0.021487</td>\n",
       "      <td>0.003631</td>\n",
       "      <td>-0.006016</td>\n",
       "      <td>0.003558</td>\n",
       "      <td>1.000000</td>\n",
       "      <td>-0.079006</td>\n",
       "    </tr>\n",
       "    <tr>\n",
       "      <th>dayOfWeek</th>\n",
       "      <td>0.006747</td>\n",
       "      <td>-0.064265</td>\n",
       "      <td>-0.070694</td>\n",
       "      <td>-0.038515</td>\n",
       "      <td>-0.045013</td>\n",
       "      <td>0.077151</td>\n",
       "      <td>-0.014422</td>\n",
       "      <td>-0.010724</td>\n",
       "      <td>0.027055</td>\n",
       "      <td>0.003915</td>\n",
       "      <td>-0.019027</td>\n",
       "      <td>0.014382</td>\n",
       "      <td>-0.079006</td>\n",
       "      <td>1.000000</td>\n",
       "    </tr>\n",
       "  </tbody>\n",
       "</table>\n",
       "</div>"
      ],
      "text/plain": [
       "                   fare_amount  pickup_longitude  pickup_latitude  \\\n",
       "fare_amount           1.000000         -0.062386        -0.075212   \n",
       "pickup_longitude     -0.062386          1.000000         0.674762   \n",
       "pickup_latitude      -0.075212          0.674762         1.000000   \n",
       "dropoff_longitude     0.008967          0.403841         0.315343   \n",
       "dropoff_latitude     -0.088434          0.340992         0.517528   \n",
       "passenger_count       0.020483         -0.040885        -0.021762   \n",
       "pickup_area          -0.023860         -0.014614         0.020312   \n",
       "dropoff_area         -0.049592         -0.015334        -0.001458   \n",
       "distance              0.817396         -0.062347        -0.074461   \n",
       "year                  0.153205         -0.005914        -0.005012   \n",
       "month                 0.036309         -0.004403         0.004351   \n",
       "day                  -0.015379          0.006956        -0.003095   \n",
       "hour                  0.002953          0.017926         0.045932   \n",
       "dayOfWeek             0.006747         -0.064265        -0.070694   \n",
       "\n",
       "                   dropoff_longitude  dropoff_latitude  passenger_count  \\\n",
       "fare_amount                 0.008967         -0.088434         0.020483   \n",
       "pickup_longitude            0.403841          0.340992        -0.040885   \n",
       "pickup_latitude             0.315343          0.517528        -0.021762   \n",
       "dropoff_longitude           1.000000          0.611156        -0.025373   \n",
       "dropoff_latitude            0.611156          1.000000        -0.009078   \n",
       "passenger_count            -0.025373         -0.009078         1.000000   \n",
       "pickup_area                -0.010059          0.006502        -0.002854   \n",
       "dropoff_area               -0.048436          0.017809         0.018234   \n",
       "distance                    0.043211         -0.045074         0.007974   \n",
       "year                        0.010444          0.001117        -0.022965   \n",
       "month                       0.008403          0.015116         0.017870   \n",
       "day                         0.005815          0.006331         0.001735   \n",
       "hour                       -0.002979          0.035498         0.040876   \n",
       "dayOfWeek                  -0.038515         -0.045013         0.077151   \n",
       "\n",
       "                   pickup_area  dropoff_area  distance      year     month  \\\n",
       "fare_amount          -0.023860     -0.049592  0.817396  0.153205  0.036309   \n",
       "pickup_longitude     -0.014614     -0.015334 -0.062347 -0.005914 -0.004403   \n",
       "pickup_latitude       0.020312     -0.001458 -0.074461 -0.005012  0.004351   \n",
       "dropoff_longitude    -0.010059     -0.048436  0.043211  0.010444  0.008403   \n",
       "dropoff_latitude      0.006502      0.017809 -0.045074  0.001117  0.015116   \n",
       "passenger_count      -0.002854      0.018234  0.007974 -0.022965  0.017870   \n",
       "pickup_area           1.000000      0.022241 -0.042811  0.008093  0.008956   \n",
       "dropoff_area          0.022241      1.000000 -0.070187 -0.010289  0.007425   \n",
       "distance             -0.042811     -0.070187  1.000000 -0.020079  0.006953   \n",
       "year                  0.008093     -0.010289 -0.020079  1.000000 -0.113680   \n",
       "month                 0.008956      0.007425  0.006953 -0.113680  1.000000   \n",
       "day                  -0.014137     -0.007946 -0.006590 -0.036748 -0.013523   \n",
       "hour                  0.027414     -0.017069 -0.021487  0.003631 -0.006016   \n",
       "dayOfWeek            -0.014422     -0.010724  0.027055  0.003915 -0.019027   \n",
       "\n",
       "                        day      hour  dayOfWeek  \n",
       "fare_amount       -0.015379  0.002953   0.006747  \n",
       "pickup_longitude   0.006956  0.017926  -0.064265  \n",
       "pickup_latitude   -0.003095  0.045932  -0.070694  \n",
       "dropoff_longitude  0.005815 -0.002979  -0.038515  \n",
       "dropoff_latitude   0.006331  0.035498  -0.045013  \n",
       "passenger_count    0.001735  0.040876   0.077151  \n",
       "pickup_area       -0.014137  0.027414  -0.014422  \n",
       "dropoff_area      -0.007946 -0.017069  -0.010724  \n",
       "distance          -0.006590 -0.021487   0.027055  \n",
       "year              -0.036748  0.003631   0.003915  \n",
       "month             -0.013523 -0.006016  -0.019027  \n",
       "day                1.000000  0.003558   0.014382  \n",
       "hour               0.003558  1.000000  -0.079006  \n",
       "dayOfWeek          0.014382 -0.079006   1.000000  "
      ]
     },
     "execution_count": 40,
     "metadata": {},
     "output_type": "execute_result"
    }
   ],
   "source": [
    "df.corr()"
   ]
  },
  {
   "cell_type": "code",
   "execution_count": 41,
   "metadata": {},
   "outputs": [
    {
     "data": {
      "text/html": [
       "<div>\n",
       "<style scoped>\n",
       "    .dataframe tbody tr th:only-of-type {\n",
       "        vertical-align: middle;\n",
       "    }\n",
       "\n",
       "    .dataframe tbody tr th {\n",
       "        vertical-align: top;\n",
       "    }\n",
       "\n",
       "    .dataframe thead th {\n",
       "        text-align: right;\n",
       "    }\n",
       "</style>\n",
       "<table border=\"1\" class=\"dataframe\">\n",
       "  <thead>\n",
       "    <tr style=\"text-align: right;\">\n",
       "      <th></th>\n",
       "      <th>fare_amount</th>\n",
       "      <th>passenger_count</th>\n",
       "      <th>distance</th>\n",
       "      <th>year</th>\n",
       "      <th>month</th>\n",
       "      <th>day</th>\n",
       "      <th>dayOfWeek</th>\n",
       "      <th>hour</th>\n",
       "    </tr>\n",
       "  </thead>\n",
       "  <tbody>\n",
       "    <tr>\n",
       "      <th>fare_amount</th>\n",
       "      <td>1.000000</td>\n",
       "      <td>0.020483</td>\n",
       "      <td>0.817396</td>\n",
       "      <td>0.153205</td>\n",
       "      <td>0.036309</td>\n",
       "      <td>-0.015379</td>\n",
       "      <td>0.006747</td>\n",
       "      <td>0.002953</td>\n",
       "    </tr>\n",
       "    <tr>\n",
       "      <th>passenger_count</th>\n",
       "      <td>0.020483</td>\n",
       "      <td>1.000000</td>\n",
       "      <td>0.007974</td>\n",
       "      <td>-0.022965</td>\n",
       "      <td>0.017870</td>\n",
       "      <td>0.001735</td>\n",
       "      <td>0.077151</td>\n",
       "      <td>0.040876</td>\n",
       "    </tr>\n",
       "    <tr>\n",
       "      <th>distance</th>\n",
       "      <td>0.817396</td>\n",
       "      <td>0.007974</td>\n",
       "      <td>1.000000</td>\n",
       "      <td>-0.020079</td>\n",
       "      <td>0.006953</td>\n",
       "      <td>-0.006590</td>\n",
       "      <td>0.027055</td>\n",
       "      <td>-0.021487</td>\n",
       "    </tr>\n",
       "    <tr>\n",
       "      <th>year</th>\n",
       "      <td>0.153205</td>\n",
       "      <td>-0.022965</td>\n",
       "      <td>-0.020079</td>\n",
       "      <td>1.000000</td>\n",
       "      <td>-0.113680</td>\n",
       "      <td>-0.036748</td>\n",
       "      <td>0.003915</td>\n",
       "      <td>0.003631</td>\n",
       "    </tr>\n",
       "    <tr>\n",
       "      <th>month</th>\n",
       "      <td>0.036309</td>\n",
       "      <td>0.017870</td>\n",
       "      <td>0.006953</td>\n",
       "      <td>-0.113680</td>\n",
       "      <td>1.000000</td>\n",
       "      <td>-0.013523</td>\n",
       "      <td>-0.019027</td>\n",
       "      <td>-0.006016</td>\n",
       "    </tr>\n",
       "    <tr>\n",
       "      <th>day</th>\n",
       "      <td>-0.015379</td>\n",
       "      <td>0.001735</td>\n",
       "      <td>-0.006590</td>\n",
       "      <td>-0.036748</td>\n",
       "      <td>-0.013523</td>\n",
       "      <td>1.000000</td>\n",
       "      <td>0.014382</td>\n",
       "      <td>0.003558</td>\n",
       "    </tr>\n",
       "    <tr>\n",
       "      <th>dayOfWeek</th>\n",
       "      <td>0.006747</td>\n",
       "      <td>0.077151</td>\n",
       "      <td>0.027055</td>\n",
       "      <td>0.003915</td>\n",
       "      <td>-0.019027</td>\n",
       "      <td>0.014382</td>\n",
       "      <td>1.000000</td>\n",
       "      <td>-0.079006</td>\n",
       "    </tr>\n",
       "    <tr>\n",
       "      <th>hour</th>\n",
       "      <td>0.002953</td>\n",
       "      <td>0.040876</td>\n",
       "      <td>-0.021487</td>\n",
       "      <td>0.003631</td>\n",
       "      <td>-0.006016</td>\n",
       "      <td>0.003558</td>\n",
       "      <td>-0.079006</td>\n",
       "      <td>1.000000</td>\n",
       "    </tr>\n",
       "  </tbody>\n",
       "</table>\n",
       "</div>"
      ],
      "text/plain": [
       "                 fare_amount  passenger_count  distance      year     month  \\\n",
       "fare_amount         1.000000         0.020483  0.817396  0.153205  0.036309   \n",
       "passenger_count     0.020483         1.000000  0.007974 -0.022965  0.017870   \n",
       "distance            0.817396         0.007974  1.000000 -0.020079  0.006953   \n",
       "year                0.153205        -0.022965 -0.020079  1.000000 -0.113680   \n",
       "month               0.036309         0.017870  0.006953 -0.113680  1.000000   \n",
       "day                -0.015379         0.001735 -0.006590 -0.036748 -0.013523   \n",
       "dayOfWeek           0.006747         0.077151  0.027055  0.003915 -0.019027   \n",
       "hour                0.002953         0.040876 -0.021487  0.003631 -0.006016   \n",
       "\n",
       "                      day  dayOfWeek      hour  \n",
       "fare_amount     -0.015379   0.006747  0.002953  \n",
       "passenger_count  0.001735   0.077151  0.040876  \n",
       "distance        -0.006590   0.027055 -0.021487  \n",
       "year            -0.036748   0.003915  0.003631  \n",
       "month           -0.013523  -0.019027 -0.006016  \n",
       "day              1.000000   0.014382  0.003558  \n",
       "dayOfWeek        0.014382   1.000000 -0.079006  \n",
       "hour             0.003558  -0.079006  1.000000  "
      ]
     },
     "execution_count": 41,
     "metadata": {},
     "output_type": "execute_result"
    }
   ],
   "source": [
    "df[['fare_amount', 'passenger_count', 'distance', 'year', 'month', 'day', 'dayOfWeek', 'hour']].corr()  "
   ]
  },
  {
   "cell_type": "code",
   "execution_count": 42,
   "metadata": {},
   "outputs": [
    {
     "data": {
      "text/plain": [
       "<matplotlib.axes._subplots.AxesSubplot at 0xdac0609828>"
      ]
     },
     "execution_count": 42,
     "metadata": {},
     "output_type": "execute_result"
    },
    {
     "data": {
      "image/png": "[encoded data removed]",
      "text/plain": [
       "<Figure size 432x288 with 1 Axes>"
      ]
     },
     "metadata": {
      "needs_background": "light"
     },
     "output_type": "display_data"
    }
   ],
   "source": [
    "# Distance as potential predictor variable of price\n",
    "sns.regplot(x=\"distance\", y=\"fare_amount\", data=df)"
   ]
  },
  {
   "cell_type": "code",
   "execution_count": 43,
   "metadata": {},
   "outputs": [
    {
     "data": {
      "text/plain": [
       "<matplotlib.axes._subplots.AxesSubplot at 0xdab230b1d0>"
      ]
     },
     "execution_count": 43,
     "metadata": {},
     "output_type": "execute_result"
    },
    {
     "data": {
      "image/png": "[encoded data removed]",
      "text/plain": [
       "<Figure size 432x288 with 1 Axes>"
      ]
     },
     "metadata": {
      "needs_background": "light"
     },
     "output_type": "display_data"
    }
   ],
   "source": [
    "sns.boxplot(x=\"year\", y=\"fare_amount\", data=df)"
   ]
  },
  {
   "cell_type": "code",
   "execution_count": 44,
   "metadata": {},
   "outputs": [
    {
     "data": {
      "text/plain": [
       "<matplotlib.axes._subplots.AxesSubplot at 0xdab23da160>"
      ]
     },
     "execution_count": 44,
     "metadata": {},
     "output_type": "execute_result"
    },
    {
     "data": {
      "image/png": "[encoded data removed]",
      "text/plain": [
       "<Figure size 432x288 with 1 Axes>"
      ]
     },
     "metadata": {
      "needs_background": "light"
     },
     "output_type": "display_data"
    }
   ],
   "source": [
    "sns.boxplot(x=\"month\", y=\"fare_amount\", data=df)"
   ]
  },
  {
   "cell_type": "code",
   "execution_count": 45,
   "metadata": {},
   "outputs": [
    {
     "data": {
      "text/plain": [
       "<matplotlib.axes._subplots.AxesSubplot at 0xdac07a1400>"
      ]
     },
     "execution_count": 45,
     "metadata": {},
     "output_type": "execute_result"
    },
    {
     "data": {
      "image/png": "[encoded data removed]",
      "text/plain": [
       "<Figure size 432x288 with 1 Axes>"
      ]
     },
     "metadata": {
      "needs_background": "light"
     },
     "output_type": "display_data"
    }
   ],
   "source": [
    "sns.boxplot(x=\"dayOfWeek\", y=\"fare_amount\", data=df)"
   ]
  },
  {
   "cell_type": "code",
   "execution_count": 46,
   "metadata": {},
   "outputs": [
    {
     "data": {
      "text/plain": [
       "<matplotlib.axes._subplots.AxesSubplot at 0xdac0897dd8>"
      ]
     },
     "execution_count": 46,
     "metadata": {},
     "output_type": "execute_result"
    },
    {
     "data": {
      "image/png": "[encoded data removed]",
      "text/plain": [
       "<Figure size 432x288 with 1 Axes>"
      ]
     },
     "metadata": {
      "needs_background": "light"
     },
     "output_type": "display_data"
    }
   ],
   "source": [
    "sns.boxplot(x=\"hour\", y=\"fare_amount\", data=df)"
   ]
  },
  {
   "cell_type": "code",
   "execution_count": 47,
   "metadata": {},
   "outputs": [
    {
     "data": {
      "text/plain": [
       "<matplotlib.axes._subplots.AxesSubplot at 0xdac0a519e8>"
      ]
     },
     "execution_count": 47,
     "metadata": {},
     "output_type": "execute_result"
    },
    {
     "data": {
      "image/png": "[encoded data removed]",
      "text/plain": [
       "<Figure size 432x288 with 1 Axes>"
      ]
     },
     "metadata": {
      "needs_background": "light"
     },
     "output_type": "display_data"
    }
   ],
   "source": [
    "sns.boxplot(x=\"passenger_count\", y=\"fare_amount\", data=df)"
   ]
  },
  {
   "cell_type": "code",
   "execution_count": 48,
   "metadata": {},
   "outputs": [
    {
     "data": {
      "text/plain": [
       "<matplotlib.axes._subplots.AxesSubplot at 0xdac0b230b8>"
      ]
     },
     "execution_count": 48,
     "metadata": {},
     "output_type": "execute_result"
    },
    {
     "data": {
      "image/png": "[encoded data removed]",
      "text/plain": [
       "<Figure size 432x288 with 1 Axes>"
      ]
     },
     "metadata": {
      "needs_background": "light"
     },
     "output_type": "display_data"
    }
   ],
   "source": [
    "sns.boxplot(x=\"day\", y=\"fare_amount\", data=df)"
   ]
  },
  {
   "cell_type": "markdown",
   "metadata": {},
   "source": [
    "## Descriptive Data Analysis"
   ]
  },
  {
   "cell_type": "markdown",
   "metadata": {},
   "source": [
    "<b>P-value</b>: \n",
    "<p>What is this P-value? The P-value is the probability value that the correlation between these two variables is statistically significant. Normally, we choose a significance level of 0.05, which means that we are 95% confident that the correlation between the variables is significant.</p>\n",
    "\n",
    "By convention, when the\n",
    "<ul>\n",
    "    <li>p-value is $<$ 0.001: we say there is strong evidence that the correlation is significant.</li>\n",
    "    <li>the p-value is $<$ 0.05: there is moderate evidence that the correlation is significant.</li>\n",
    "    <li>the p-value is $<$ 0.1: there is weak evidence that the correlation is significant.</li>\n",
    "    <li>the p-value is $>$ 0.1: there is no evidence that the correlation is significant.</li>\n",
    "</ul>"
   ]
  },
  {
   "cell_type": "code",
   "execution_count": 49,
   "metadata": {},
   "outputs": [],
   "source": [
    "from scipy import stats"
   ]
  },
  {
   "cell_type": "markdown",
   "metadata": {},
   "source": [
    "#### Distance vs Fare Amount"
   ]
  },
  {
   "cell_type": "code",
   "execution_count": 50,
   "metadata": {},
   "outputs": [
    {
     "name": "stdout",
     "output_type": "stream",
     "text": [
      "The Pearson Correlation Coefficient is 0.8173958259790548  with a P-value of P = 0.0\n"
     ]
    }
   ],
   "source": [
    "pearson_coef, p_value = stats.pearsonr(df['distance'], df['fare_amount'])\n",
    "print(\"The Pearson Correlation Coefficient is\", pearson_coef, \" with a P-value of P =\", p_value)  "
   ]
  },
  {
   "cell_type": "markdown",
   "metadata": {},
   "source": [
    "<h5>Conclusion:</h5>\n",
    "<p>Since the p-value is $<$ 0.001, the correlation between distance and fare_amount is statistically significant, and the linear relationship is quite strong  (~0.817)</p>"
   ]
  },
  {
   "cell_type": "markdown",
   "metadata": {},
   "source": [
    "#### Passenger Count vs Fare Amount"
   ]
  },
  {
   "cell_type": "code",
   "execution_count": 51,
   "metadata": {},
   "outputs": [
    {
     "name": "stdout",
     "output_type": "stream",
     "text": [
      "The Pearson Correlation Coefficient is 0.020482751722054396  with a P-value of P = 0.024405573191664316\n"
     ]
    }
   ],
   "source": [
    "pearson_coef, p_value = stats.pearsonr(df['passenger_count'], df['fare_amount'])\n",
    "print(\"The Pearson Correlation Coefficient is\", pearson_coef, \" with a P-value of P =\", p_value)  "
   ]
  },
  {
   "cell_type": "markdown",
   "metadata": {},
   "source": [
    "<h5>Conclusion:</h5>\n",
    "<p>Since the p-value is $<$ 0.05, the correlation between passenger_count and fare_amount is moderately statistically significant, although the linear relationship is not strong  (~0.0206)</p>"
   ]
  },
  {
   "cell_type": "markdown",
   "metadata": {},
   "source": [
    "#### Year vs Fare Amount"
   ]
  },
  {
   "cell_type": "code",
   "execution_count": 52,
   "metadata": {},
   "outputs": [
    {
     "name": "stdout",
     "output_type": "stream",
     "text": [
      "The Pearson Correlation Coefficient is 0.1532048065741268  with a P-value of P = 2.581710503822414e-64\n"
     ]
    }
   ],
   "source": [
    "pearson_coef, p_value = stats.pearsonr(df['year'], df['fare_amount'])\n",
    "print(\"The Pearson Correlation Coefficient is\", pearson_coef, \" with a P-value of P =\", p_value)  "
   ]
  },
  {
   "cell_type": "markdown",
   "metadata": {},
   "source": [
    "<h5>Conclusion:</h5>\n",
    "<p>Since the p-value is $<$ 0.001, the correlation between year and fare_amount is \n",
    "statistically significant, although the linear relationship is not strong  (~0.153)</p>"
   ]
  },
  {
   "cell_type": "markdown",
   "metadata": {},
   "source": [
    "#### Month vs Fare Amount"
   ]
  },
  {
   "cell_type": "code",
   "execution_count": 53,
   "metadata": {},
   "outputs": [
    {
     "name": "stdout",
     "output_type": "stream",
     "text": [
      "The Pearson Correlation Coefficient is 0.03630885370321544  with a P-value of P = 6.591101282368265e-05\n"
     ]
    }
   ],
   "source": [
    "pearson_coef, p_value = stats.pearsonr(df['month'], df['fare_amount'])\n",
    "print(\"The Pearson Correlation Coefficient is\", pearson_coef, \" with a P-value of P =\", p_value)  "
   ]
  },
  {
   "cell_type": "markdown",
   "metadata": {},
   "source": [
    "<h5>Conclusion:</h5>\n",
    "<p>Since the p-value is $<$ 0.001, the correlation between month and fare_amount is \n",
    "statistically significant, although the linear relationship is not strong  (~0.0368)</p>"
   ]
  },
  {
   "cell_type": "markdown",
   "metadata": {},
   "source": [
    "#### Day vs Fare Amount"
   ]
  },
  {
   "cell_type": "code",
   "execution_count": 54,
   "metadata": {},
   "outputs": [
    {
     "name": "stdout",
     "output_type": "stream",
     "text": [
      "The Pearson Correlation Coefficient is -0.01537874550043388  with a P-value of P = 0.09107225196478452\n"
     ]
    }
   ],
   "source": [
    "pearson_coef, p_value = stats.pearsonr(df['day'], df['fare_amount'])\n",
    "print(\"The Pearson Correlation Coefficient is\", pearson_coef, \" with a P-value of P =\", p_value)  "
   ]
  },
  {
   "cell_type": "markdown",
   "metadata": {},
   "source": [
    "<h5>Conclusion:</h5>\n",
    "<p>Since the p-value is $<$ 0.1, the correlation between day and fare_amount is slightly \n",
    "statistically significant, and the linear relationship is not strong  (~-0.015)</p>"
   ]
  },
  {
   "cell_type": "markdown",
   "metadata": {},
   "source": [
    "#### DayOfWeek vs Fare Amount"
   ]
  },
  {
   "cell_type": "code",
   "execution_count": 55,
   "metadata": {},
   "outputs": [
    {
     "name": "stdout",
     "output_type": "stream",
     "text": [
      "The Pearson Correlation Coefficient is 0.00674679522960945  with a P-value of P = 0.4585228494588428\n"
     ]
    }
   ],
   "source": [
    "pearson_coef, p_value = stats.pearsonr(df['dayOfWeek'], df['fare_amount'])\n",
    "print(\"The Pearson Correlation Coefficient is\", pearson_coef, \" with a P-value of P =\", p_value)  "
   ]
  },
  {
   "cell_type": "markdown",
   "metadata": {},
   "source": [
    "<h5>Conclusion:</h5>\n",
    "<p>Since the p-value is $>$ 0.1, the correlation between DayOfMonth and fare_amount is not \n",
    "statistically significant, and the linear relationship is not strong  (~0.007)</p>"
   ]
  },
  {
   "cell_type": "markdown",
   "metadata": {},
   "source": [
    "#### Hour vs Fare Amount"
   ]
  },
  {
   "cell_type": "code",
   "execution_count": 56,
   "metadata": {},
   "outputs": [
    {
     "name": "stdout",
     "output_type": "stream",
     "text": [
      "The Pearson Correlation Coefficient is 0.0029528293187471746  with a P-value of P = 0.745613130004831\n"
     ]
    }
   ],
   "source": [
    "pearson_coef, p_value = stats.pearsonr(df['hour'], df['fare_amount'])\n",
    "print(\"The Pearson Correlation Coefficient is\", pearson_coef, \" with a P-value of P =\", p_value)  "
   ]
  },
  {
   "cell_type": "markdown",
   "metadata": {},
   "source": [
    "<h5>Conclusion:</h5>\n",
    "<p>Since the p-value is $>$ 0.1, the correlation between hour and fare_amount is not \n",
    "statistically significant, and the linear relationship is not strong  (~0.003)</p>"
   ]
  },
  {
   "cell_type": "markdown",
   "metadata": {},
   "source": [
    "### Conclusion: Important Variables"
   ]
  },
  {
   "cell_type": "markdown",
   "metadata": {},
   "source": [
    "<p>We now have a better idea of what our data looks like and which variables are important to take into account when predicting the fare_amount. We have narrowed it down to the following variables:</p>\n",
    "\n",
    "Continuous numerical variables:\n",
    "<ul>\n",
    "    <li>Distance</li>\n",
    "</ul>\n",
    "    \n",
    "Categorical variables:\n",
    "<ul>\n",
    "    <li>Year</li>\n",
    "    <li>Month</li>\n",
    "    <li>Day</li>\n",
    "    <li>Passenger Count</li>\n",
    "</ul>\n",
    "\n",
    "<p>As we now move into building machine learning models to automate our analysis, feeding the model with variables that meaningfully affect our target variable will improve our model's prediction performance.</p>"
   ]
  },
  {
   "cell_type": "markdown",
   "metadata": {},
   "source": [
    "### Feature Selection"
   ]
  },
  {
   "cell_type": "code",
   "execution_count": 57,
   "metadata": {},
   "outputs": [],
   "source": [
    "# Import the necessary libraries first\n",
    "from sklearn.feature_selection import SelectKBest\n",
    "from sklearn.feature_selection import f_classif"
   ]
  },
  {
   "cell_type": "code",
   "execution_count": 58,
   "metadata": {},
   "outputs": [],
   "source": [
    "X = df[df.columns[2:]]\n",
    "Y = df['fare_amount']"
   ]
  },
  {
   "cell_type": "code",
   "execution_count": 59,
   "metadata": {},
   "outputs": [
    {
     "name": "stdout",
     "output_type": "stream",
     "text": [
      "[  1.345   1.731   1.294   2.241   1.003   1.249   1.096 225.843 114.529\n",
      "   1.764   0.983   1.579   0.88 ]\n",
      "[[7.118e-01 8.453e+00 2.010e+03 1.000e+00]\n",
      " [7.112e-01 1.390e+00 2.011e+03 8.000e+00]\n",
      " [7.114e-01 2.800e+00 2.012e+03 4.000e+00]\n",
      " [7.118e-01 2.000e+00 2.010e+03 3.000e+00]\n",
      " [7.114e-01 3.788e+00 2.011e+03 1.000e+00]]\n"
     ]
    }
   ],
   "source": [
    "# Feature extraction\n",
    "test = SelectKBest(score_func=f_classif, k=4)\n",
    "fit = test.fit(X, Y)\n",
    "\n",
    "# Summarize scores\n",
    "np.set_printoptions(precision=3)\n",
    "print(fit.scores_)\n",
    "\n",
    "features = fit.transform(X)\n",
    "# Summarize selected features\n",
    "print(features[0:5,:])"
   ]
  },
  {
   "cell_type": "markdown",
   "metadata": {},
   "source": [
    " ### Recursive Feature Elimination"
   ]
  },
  {
   "cell_type": "code",
   "execution_count": 60,
   "metadata": {},
   "outputs": [],
   "source": [
    "# Import your necessary dependencies\n",
    "from sklearn.feature_selection import RFE\n",
    "from sklearn.linear_model import LinearRegression"
   ]
  },
  {
   "cell_type": "code",
   "execution_count": 61,
   "metadata": {},
   "outputs": [
    {
     "name": "stdout",
     "output_type": "stream",
     "text": [
      "Num Features: 3\n",
      "Selected Features: [ True False  True  True False False False False False False False False\n",
      " False]\n",
      "Feature Ranking: [ 1  2  1  1  5 11 10  3  4  6  9  8  7]\n"
     ]
    }
   ],
   "source": [
    "# Feature extraction\n",
    "model = LinearRegression()\n",
    "rfe = RFE(model, 3)\n",
    "fit = rfe.fit(X, Y)\n",
    "print(\"Num Features: %s\" % (fit.n_features_))\n",
    "print(\"Selected Features: %s\" % (fit.support_))\n",
    "print(\"Feature Ranking: %s\" % (fit.ranking_))"
   ]
  },
  {
   "cell_type": "code",
   "execution_count": 62,
   "metadata": {},
   "outputs": [
    {
     "data": {
      "text/html": [
       "<div>\n",
       "<style scoped>\n",
       "    .dataframe tbody tr th:only-of-type {\n",
       "        vertical-align: middle;\n",
       "    }\n",
       "\n",
       "    .dataframe tbody tr th {\n",
       "        vertical-align: top;\n",
       "    }\n",
       "\n",
       "    .dataframe thead th {\n",
       "        text-align: right;\n",
       "    }\n",
       "</style>\n",
       "<table border=\"1\" class=\"dataframe\">\n",
       "  <thead>\n",
       "    <tr style=\"text-align: right;\">\n",
       "      <th></th>\n",
       "      <th>pickup_longitude</th>\n",
       "      <th>pickup_latitude</th>\n",
       "      <th>dropoff_longitude</th>\n",
       "      <th>dropoff_latitude</th>\n",
       "      <th>passenger_count</th>\n",
       "      <th>pickup_area</th>\n",
       "      <th>dropoff_area</th>\n",
       "      <th>distance</th>\n",
       "      <th>year</th>\n",
       "      <th>month</th>\n",
       "      <th>day</th>\n",
       "      <th>hour</th>\n",
       "      <th>dayOfWeek</th>\n",
       "    </tr>\n",
       "  </thead>\n",
       "  <tbody>\n",
       "    <tr>\n",
       "      <th>1</th>\n",
       "      <td>-1.291824</td>\n",
       "      <td>0.710546</td>\n",
       "      <td>-1.291182</td>\n",
       "      <td>0.711780</td>\n",
       "      <td>1.0</td>\n",
       "      <td>918</td>\n",
       "      <td>-1</td>\n",
       "      <td>8.452786</td>\n",
       "      <td>2010</td>\n",
       "      <td>1</td>\n",
       "      <td>5</td>\n",
       "      <td>16</td>\n",
       "      <td>1</td>\n",
       "    </tr>\n",
       "    <tr>\n",
       "      <th>2</th>\n",
       "      <td>-1.291242</td>\n",
       "      <td>0.711418</td>\n",
       "      <td>-1.291391</td>\n",
       "      <td>0.711231</td>\n",
       "      <td>2.0</td>\n",
       "      <td>-1</td>\n",
       "      <td>-1</td>\n",
       "      <td>1.389961</td>\n",
       "      <td>2011</td>\n",
       "      <td>8</td>\n",
       "      <td>18</td>\n",
       "      <td>0</td>\n",
       "      <td>3</td>\n",
       "    </tr>\n",
       "    <tr>\n",
       "      <th>3</th>\n",
       "      <td>-1.291319</td>\n",
       "      <td>0.710927</td>\n",
       "      <td>-1.291396</td>\n",
       "      <td>0.711363</td>\n",
       "      <td>1.0</td>\n",
       "      <td>-1</td>\n",
       "      <td>5252</td>\n",
       "      <td>2.800149</td>\n",
       "      <td>2012</td>\n",
       "      <td>4</td>\n",
       "      <td>21</td>\n",
       "      <td>4</td>\n",
       "      <td>5</td>\n",
       "    </tr>\n",
       "    <tr>\n",
       "      <th>4</th>\n",
       "      <td>-1.290987</td>\n",
       "      <td>0.711536</td>\n",
       "      <td>-1.290787</td>\n",
       "      <td>0.711811</td>\n",
       "      <td>1.0</td>\n",
       "      <td>-1</td>\n",
       "      <td>2339</td>\n",
       "      <td>1.999784</td>\n",
       "      <td>2010</td>\n",
       "      <td>3</td>\n",
       "      <td>9</td>\n",
       "      <td>7</td>\n",
       "      <td>1</td>\n",
       "    </tr>\n",
       "    <tr>\n",
       "      <th>5</th>\n",
       "      <td>-1.291560</td>\n",
       "      <td>0.710901</td>\n",
       "      <td>-1.291071</td>\n",
       "      <td>0.711365</td>\n",
       "      <td>1.0</td>\n",
       "      <td>3934</td>\n",
       "      <td>6875</td>\n",
       "      <td>3.788428</td>\n",
       "      <td>2011</td>\n",
       "      <td>1</td>\n",
       "      <td>6</td>\n",
       "      <td>9</td>\n",
       "      <td>3</td>\n",
       "    </tr>\n",
       "  </tbody>\n",
       "</table>\n",
       "</div>"
      ],
      "text/plain": [
       "   pickup_longitude  pickup_latitude  dropoff_longitude  dropoff_latitude  \\\n",
       "1         -1.291824         0.710546          -1.291182          0.711780   \n",
       "2         -1.291242         0.711418          -1.291391          0.711231   \n",
       "3         -1.291319         0.710927          -1.291396          0.711363   \n",
       "4         -1.290987         0.711536          -1.290787          0.711811   \n",
       "5         -1.291560         0.710901          -1.291071          0.711365   \n",
       "\n",
       "   passenger_count  pickup_area  dropoff_area  distance  year  month  day  \\\n",
       "1              1.0          918            -1  8.452786  2010      1    5   \n",
       "2              2.0           -1            -1  1.389961  2011      8   18   \n",
       "3              1.0           -1          5252  2.800149  2012      4   21   \n",
       "4              1.0           -1          2339  1.999784  2010      3    9   \n",
       "5              1.0         3934          6875  3.788428  2011      1    6   \n",
       "\n",
       "   hour  dayOfWeek  \n",
       "1    16          1  \n",
       "2     0          3  \n",
       "3     4          5  \n",
       "4     7          1  \n",
       "5     9          3  "
      ]
     },
     "execution_count": 62,
     "metadata": {},
     "output_type": "execute_result"
    }
   ],
   "source": [
    "X.head()"
   ]
  },
  {
   "cell_type": "markdown",
   "metadata": {},
   "source": [
    "### Ridge Regression"
   ]
  },
  {
   "cell_type": "code",
   "execution_count": 63,
   "metadata": {},
   "outputs": [],
   "source": [
    "# First things first\n",
    "from sklearn.linear_model import Ridge"
   ]
  },
  {
   "cell_type": "code",
   "execution_count": 64,
   "metadata": {},
   "outputs": [
    {
     "data": {
      "text/plain": [
       "Ridge(alpha=1.0, copy_X=True, fit_intercept=True, max_iter=None,\n",
       "   normalize=False, random_state=None, solver='auto', tol=0.001)"
      ]
     },
     "execution_count": 64,
     "metadata": {},
     "output_type": "execute_result"
    }
   ],
   "source": [
    "ridge = Ridge(alpha=1.0)\n",
    "ridge.fit(X,Y)"
   ]
  },
  {
   "cell_type": "code",
   "execution_count": 65,
   "metadata": {},
   "outputs": [],
   "source": [
    "# A helper method for pretty-printing the coefficients\n",
    "def pretty_print_coefs(coefs, names = None, sort = False):\n",
    "    if names == None:\n",
    "        names = [\"X%s\" % x for x in range(len(coefs))]\n",
    "    lst = zip(coefs, names)\n",
    "    if sort:\n",
    "        lst = sorted(lst,  key = lambda x:-np.abs(x[0]))\n",
    "    return \" + \".join(\"%s * %s\" % (round(coef, 3), name)\n",
    "                                   for coef, name in lst)"
   ]
  },
  {
   "cell_type": "code",
   "execution_count": 66,
   "metadata": {},
   "outputs": [
    {
     "name": "stdout",
     "output_type": "stream",
     "text": [
      "Ridge model: -0.134 * X0 + -0.264 * X1 + -0.395 * X2 + -1.005 * X3 + 0.127 * X4 + 0.0 * X5 + 0.0 * X6 + 1.964 * X7 + 0.366 * X8 + 0.056 * X9 + -0.001 * X10 + 0.011 * X11 + -0.03 * X12\n"
     ]
    }
   ],
   "source": [
    "print (\"Ridge model:\", pretty_print_coefs(ridge.coef_))"
   ]
  },
  {
   "cell_type": "markdown",
   "metadata": {},
   "source": [
    "## Model Development"
   ]
  },
  {
   "cell_type": "markdown",
   "metadata": {},
   "source": [
    "### 1. Multiple Linear Regression"
   ]
  },
  {
   "cell_type": "code",
   "execution_count": 67,
   "metadata": {},
   "outputs": [],
   "source": [
    "from sklearn.linear_model import LinearRegression"
   ]
  },
  {
   "cell_type": "code",
   "execution_count": 68,
   "metadata": {},
   "outputs": [],
   "source": [
    "from sklearn.model_selection import train_test_split"
   ]
  },
  {
   "cell_type": "code",
   "execution_count": 69,
   "metadata": {},
   "outputs": [
    {
     "data": {
      "text/plain": [
       "LinearRegression(copy_X=True, fit_intercept=True, n_jobs=None,\n",
       "         normalize=False)"
      ]
     },
     "execution_count": 69,
     "metadata": {},
     "output_type": "execute_result"
    }
   ],
   "source": [
    "lm = LinearRegression()\n",
    "lm"
   ]
  },
  {
   "cell_type": "code",
   "execution_count": 70,
   "metadata": {},
   "outputs": [],
   "source": [
    "x_train, x_test, y_train, y_test = train_test_split(X, Y, test_size=0.25, random_state=0)"
   ]
  },
  {
   "cell_type": "code",
   "execution_count": 71,
   "metadata": {},
   "outputs": [
    {
     "data": {
      "text/plain": [
       "LinearRegression(copy_X=True, fit_intercept=True, n_jobs=None,\n",
       "         normalize=False)"
      ]
     },
     "execution_count": 71,
     "metadata": {},
     "output_type": "execute_result"
    }
   ],
   "source": [
    "lm.fit(x_train, y_train)"
   ]
  },
  {
   "cell_type": "code",
   "execution_count": 72,
   "metadata": {},
   "outputs": [
    {
     "data": {
      "text/plain": [
       "-471.2254132366043"
      ]
     },
     "execution_count": 72,
     "metadata": {},
     "output_type": "execute_result"
    }
   ],
   "source": [
    "lm.intercept_"
   ]
  },
  {
   "cell_type": "code",
   "execution_count": 73,
   "metadata": {},
   "outputs": [
    {
     "data": {
      "text/plain": [
       "array([-8.339e+01,  2.536e+02,  7.285e+01, -6.418e+02,  1.373e-01,\n",
       "        2.148e-05,  1.624e-05,  1.950e+00,  3.664e-01,  5.101e-02,\n",
       "        6.217e-05,  9.048e-03, -3.347e-02])"
      ]
     },
     "execution_count": 73,
     "metadata": {},
     "output_type": "execute_result"
    }
   ],
   "source": [
    "lm.coef_"
   ]
  },
  {
   "cell_type": "code",
   "execution_count": 74,
   "metadata": {},
   "outputs": [],
   "source": [
    "Yhat = lm.predict(x_test)"
   ]
  },
  {
   "cell_type": "code",
   "execution_count": 75,
   "metadata": {},
   "outputs": [
    {
     "name": "stdout",
     "output_type": "stream",
     "text": [
      "0.713794747092104\n"
     ]
    }
   ],
   "source": [
    "# Use score method to get accuracy of model\n",
    "score = lm.score(x_test, y_test)\n",
    "print(score)"
   ]
  },
  {
   "cell_type": "code",
   "execution_count": 76,
   "metadata": {},
   "outputs": [
    {
     "data": {
      "image/png": "[encoded data removed]",
      "text/plain": [
       "<Figure size 864x720 with 1 Axes>"
      ]
     },
     "metadata": {
      "needs_background": "light"
     },
     "output_type": "display_data"
    }
   ],
   "source": [
    "width = 12\n",
    "height = 10\n",
    "plt.figure(figsize=(width, height))\n",
    "\n",
    "ax1 = sns.distplot(y_test, hist=False, color=\"r\", label=\"Actual Value\")\n",
    "sns.distplot(Yhat, hist=False, color=\"b\", label=\"Fitted Values\" , ax=ax1)\n",
    "\n",
    "plt.title('Actual vs Fitted Values for Price')\n",
    "plt.xlabel('Price (in dollars)')\n",
    "\n",
    "plt.show()\n",
    "plt.close()"
   ]
  },
  {
   "cell_type": "markdown",
   "metadata": {},
   "source": [
    "<p>We can see that the fitted values are reasonably close to the actual values, since the two distributions overlap a bit. However, there is definitely some room for improvement.</p>"
   ]
  },
  {
   "cell_type": "markdown",
   "metadata": {},
   "source": [
    "### 2. Random Forest Regression "
   ]
  },
  {
   "cell_type": "code",
   "execution_count": 77,
   "metadata": {},
   "outputs": [],
   "source": [
    "# Fitting Random Forest Regression to the dataset \n",
    "# import the regressor \n",
    "from sklearn.ensemble import RandomForestRegressor "
   ]
  },
  {
   "cell_type": "code",
   "execution_count": 78,
   "metadata": {},
   "outputs": [],
   "source": [
    "x_train, x_test, y_train, y_test = train_test_split(X, Y, test_size=0.25, random_state=0)"
   ]
  },
  {
   "cell_type": "code",
   "execution_count": 79,
   "metadata": {},
   "outputs": [],
   "source": [
    "# create regressor object \n",
    "regressor = RandomForestRegressor(n_estimators = 100, random_state = 0) "
   ]
  },
  {
   "cell_type": "code",
   "execution_count": 80,
   "metadata": {},
   "outputs": [
    {
     "data": {
      "text/plain": [
       "RandomForestRegressor(bootstrap=True, criterion='mse', max_depth=None,\n",
       "           max_features='auto', max_leaf_nodes=None,\n",
       "           min_impurity_decrease=0.0, min_impurity_split=None,\n",
       "           min_samples_leaf=1, min_samples_split=2,\n",
       "           min_weight_fraction_leaf=0.0, n_estimators=100, n_jobs=None,\n",
       "           oob_score=False, random_state=0, verbose=0, warm_start=False)"
      ]
     },
     "execution_count": 80,
     "metadata": {},
     "output_type": "execute_result"
    }
   ],
   "source": [
    "# fit the regressor with x and y data \n",
    "regressor.fit(x_train, y_train)   "
   ]
  },
  {
   "cell_type": "code",
   "execution_count": 81,
   "metadata": {},
   "outputs": [],
   "source": [
    "predictions = regressor.predict(x_test)"
   ]
  },
  {
   "cell_type": "code",
   "execution_count": 82,
   "metadata": {},
   "outputs": [
    {
     "name": "stdout",
     "output_type": "stream",
     "text": [
      "0.7405938411585025\n"
     ]
    }
   ],
   "source": [
    "# Use score method to get accuracy of model\n",
    "score = regressor.score(x_test, y_test)\n",
    "print(score)"
   ]
  },
  {
   "cell_type": "code",
   "execution_count": 83,
   "metadata": {},
   "outputs": [
    {
     "data": {
      "image/png": "[encoded data removed]",
      "text/plain": [
       "<Figure size 864x720 with 1 Axes>"
      ]
     },
     "metadata": {
      "needs_background": "light"
     },
     "output_type": "display_data"
    }
   ],
   "source": [
    "width = 12\n",
    "height = 10\n",
    "plt.figure(figsize=(width, height))\n",
    "\n",
    "ax1 = sns.distplot(y_test, hist=False, color=\"r\", label=\"Actual Value\")\n",
    "sns.distplot(predictions, hist=False, color=\"b\", label=\"Fitted Values\" , ax=ax1)\n",
    "\n",
    "plt.title('Actual vs Fitted Values for Price')\n",
    "plt.xlabel('Price (in dollars)')\n",
    "\n",
    "\n",
    "plt.show()\n",
    "plt.close()"
   ]
  },
  {
   "cell_type": "markdown",
   "metadata": {},
   "source": [
    "<p>We can see that the fitted values are reasonably close to the actual values, since the two distributions overlap a bit. This is better than the linear regression model.However, there is definitely some room for improvement.</p>"
   ]
  },
  {
   "cell_type": "markdown",
   "metadata": {},
   "source": [
    "### 3. Gradient Boosting: Lightgbm"
   ]
  },
  {
   "cell_type": "code",
   "execution_count": 84,
   "metadata": {},
   "outputs": [],
   "source": [
    "import lightgbm as lgbm"
   ]
  },
  {
   "cell_type": "code",
   "execution_count": 85,
   "metadata": {},
   "outputs": [],
   "source": [
    "### function that change data type to prevent memory surge from Lightgbm python package\n",
    "def change_data_type(df):\n",
    "    df['passenger_count'] = df['passenger_count'].values.astype(np.float32)\n",
    "    df['year'] = df['year'].values.astype(np.float32)\n",
    "    df['month'] = df['month'].values.astype(np.float32)\n",
    "    df['day'] = df['day'].values.astype(np.float32)\n",
    "    df['hour'] = df['hour'].values.astype(np.float32)\n",
    "    df['dayOfWeek'] = df['dayOfWeek'].values.astype(np.float32)\n",
    "    return df"
   ]
  },
  {
   "cell_type": "code",
   "execution_count": 86,
   "metadata": {},
   "outputs": [],
   "source": [
    "df = change_data_type(df)\n",
    "x_train, x_test, y_train, y_test = train_test_split(X, Y, test_size=0.25, random_state=0)"
   ]
  },
  {
   "cell_type": "code",
   "execution_count": 87,
   "metadata": {},
   "outputs": [],
   "source": [
    "### create lightgbm dataset\n",
    "train_set = lgbm.Dataset(x_train, y_train, silent=False, categorical_feature=['year','month','day','dayOfWeek','hour'])\n",
    "test_set = lgbm.Dataset(x_test, y_test, silent=False, categorical_feature=['year','month','day','dayOfWeek','hour'])"
   ]
  },
  {
   "cell_type": "code",
   "execution_count": 88,
   "metadata": {},
   "outputs": [],
   "source": [
    "### parameter for lightgbm model\n",
    "params = {\n",
    "    'boosting_type':'gbdt',\n",
    "    'objective': 'regression',\n",
    "    'nthread':16,\n",
    "    'num_leaves': 31,\n",
    "    'learning_rate': 0.03,\n",
    "    'max_depth': 500,\n",
    "    'subsample': 0.8,\n",
    "    'bagging_fraction' : 1,\n",
    "    'max_bin' : 5000 ,\n",
    "    'bagging_freq': 30,\n",
    "    'colsample_bytree': 0.6,\n",
    "    'metric': 'rmse',\n",
    "    'min_split_gain': 0.5,\n",
    "    'min_child_weight': 1,\n",
    "    'min_child_samples': 10,\n",
    "    'scale_pos_weight':1,\n",
    "    'zero_as_missing': False,\n",
    "    'seed':0,\n",
    "    'num_rounds':60000,\n",
    "}"
   ]
  },
  {
   "cell_type": "code",
   "execution_count": 89,
   "metadata": {},
   "outputs": [
    {
     "name": "stderr",
     "output_type": "stream",
     "text": [
      "C:\\Users\\Welcome\\Anaconda3\\lib\\site-packages\\lightgbm\\engine.py:118: UserWarning: Found `num_rounds` in params. Will use it instead of argument\n",
      "  warnings.warn(\"Found `{}` in params. Will use it instead of argument\".format(alias))\n",
      "C:\\Users\\Welcome\\Anaconda3\\lib\\site-packages\\lightgbm\\basic.py:1205: UserWarning: Using categorical_feature in Dataset.\n",
      "  warnings.warn('Using categorical_feature in Dataset.')\n",
      "C:\\Users\\Welcome\\Anaconda3\\lib\\site-packages\\lightgbm\\basic.py:762: UserWarning: categorical_feature in param dict is overridden.\n",
      "  warnings.warn('categorical_feature in param dict is overridden.')\n"
     ]
    },
    {
     "name": "stdout",
     "output_type": "stream",
     "text": [
      "Training until validation scores don't improve for 500 rounds.\n",
      "[100]\tvalid_0's rmse: 2.11222\n",
      "[200]\tvalid_0's rmse: 1.95722\n",
      "[300]\tvalid_0's rmse: 1.9307\n",
      "[400]\tvalid_0's rmse: 1.91772\n",
      "[500]\tvalid_0's rmse: 1.9133\n",
      "[600]\tvalid_0's rmse: 1.91138\n",
      "[700]\tvalid_0's rmse: 1.90678\n",
      "[800]\tvalid_0's rmse: 1.90382\n",
      "[900]\tvalid_0's rmse: 1.90163\n",
      "[1000]\tvalid_0's rmse: 1.9014\n",
      "[1100]\tvalid_0's rmse: 1.9014\n",
      "[1200]\tvalid_0's rmse: 1.9014\n",
      "[1300]\tvalid_0's rmse: 1.9014\n",
      "[1400]\tvalid_0's rmse: 1.9014\n",
      "Early stopping, best iteration is:\n",
      "[905]\tvalid_0's rmse: 1.90135\n"
     ]
    }
   ],
   "source": [
    "### train the model\n",
    "model = lgbm.train(params, train_set = train_set, valid_sets=test_set, num_boost_round=5000,early_stopping_rounds=500,verbose_eval=100)"
   ]
  },
  {
   "cell_type": "code",
   "execution_count": 90,
   "metadata": {},
   "outputs": [
    {
     "data": {
      "text/plain": [
       "defaultdict(dict, {'valid_0': {'rmse': 1.9013540632844097}})"
      ]
     },
     "execution_count": 90,
     "metadata": {},
     "output_type": "execute_result"
    }
   ],
   "source": [
    "model.best_score"
   ]
  },
  {
   "cell_type": "code",
   "execution_count": 91,
   "metadata": {},
   "outputs": [],
   "source": [
    "predict = model.predict(x_test)"
   ]
  },
  {
   "cell_type": "code",
   "execution_count": 92,
   "metadata": {},
   "outputs": [
    {
     "data": {
      "image/png": "[encoded data removed]",
      "text/plain": [
       "<Figure size 864x720 with 1 Axes>"
      ]
     },
     "metadata": {
      "needs_background": "light"
     },
     "output_type": "display_data"
    }
   ],
   "source": [
    "width = 12\n",
    "height = 10\n",
    "plt.figure(figsize=(width, height))\n",
    "\n",
    "ax1 = sns.distplot(y_test, hist=False, color=\"r\", label=\"Actual Value\")\n",
    "sns.distplot(predict, hist=False, color=\"b\", label=\"Fitted Values\" , ax=ax1)\n",
    "\n",
    "plt.title('Actual vs Fitted Values for Price')\n",
    "plt.xlabel('Price (in dollars)')\n",
    "\n",
    "\n",
    "plt.show()\n",
    "plt.close()"
   ]
  },
  {
   "cell_type": "code",
   "execution_count": 93,
   "metadata": {},
   "outputs": [],
   "source": [
    "import pickle\n",
    "\n",
    "### save trained model\n",
    "with open(\"lightbgm_car_fare.pkl\", 'wb') as pickle_file:\n",
    "    pickle.dump(model, pickle_file)"
   ]
  },
  {
   "cell_type": "markdown",
   "metadata": {},
   "source": [
    "## Model Selection/ Evaluation"
   ]
  },
  {
   "cell_type": "code",
   "execution_count": 94,
   "metadata": {},
   "outputs": [],
   "source": [
    "import math\n",
    "from sklearn.metrics import mean_squared_error\n",
    "from sklearn.model_selection import cross_val_score"
   ]
  },
  {
   "cell_type": "markdown",
   "metadata": {},
   "source": [
    "### 1. Linear Regression"
   ]
  },
  {
   "cell_type": "markdown",
   "metadata": {},
   "source": [
    "### >> R-square Error"
   ]
  },
  {
   "cell_type": "code",
   "execution_count": 95,
   "metadata": {},
   "outputs": [
    {
     "name": "stdout",
     "output_type": "stream",
     "text": [
      "The R-square is:  0.713794747092104\n"
     ]
    }
   ],
   "source": [
    "print('The R-square is: ', lm.score(x_test, y_test))"
   ]
  },
  {
   "cell_type": "markdown",
   "metadata": {},
   "source": [
    "### >>Cross Validation"
   ]
  },
  {
   "cell_type": "code",
   "execution_count": 96,
   "metadata": {},
   "outputs": [],
   "source": [
    "Rcross = cross_val_score(lm, X, Y, cv=4)"
   ]
  },
  {
   "cell_type": "code",
   "execution_count": 97,
   "metadata": {},
   "outputs": [
    {
     "name": "stdout",
     "output_type": "stream",
     "text": [
      "The mean of the folds are 0.7024363685502308 and the standard deviation is 0.00432234428616818\n"
     ]
    }
   ],
   "source": [
    "print(\"The mean of the folds are\", Rcross.mean(), \"and the standard deviation is\" , Rcross.std())"
   ]
  },
  {
   "cell_type": "markdown",
   "metadata": {},
   "source": [
    "### >>Mean Square Error(MSE)"
   ]
  },
  {
   "cell_type": "code",
   "execution_count": 98,
   "metadata": {},
   "outputs": [
    {
     "name": "stdout",
     "output_type": "stream",
     "text": [
      "The mean square error(MSE) of price and predicted value using multifit is:  4.540229932701916\n"
     ]
    }
   ],
   "source": [
    "mse = mean_squared_error(y_test, lm.predict(x_test))\n",
    "print('The mean square error(MSE) of price and predicted value using multifit is: ', mse)"
   ]
  },
  {
   "cell_type": "markdown",
   "metadata": {},
   "source": [
    "### >>Root Mean Square Error (RMSE)"
   ]
  },
  {
   "cell_type": "code",
   "execution_count": 99,
   "metadata": {},
   "outputs": [
    {
     "name": "stdout",
     "output_type": "stream",
     "text": [
      "The Root mean square error(RMSE) of price and predicted value using multifit is:  2.130781530965086\n"
     ]
    }
   ],
   "source": [
    "rmse = math.sqrt(mse)\n",
    "print('The Root mean square error(RMSE) of price and predicted value using multifit is: ', rmse)"
   ]
  },
  {
   "cell_type": "markdown",
   "metadata": {},
   "source": [
    "<hr>\n"
   ]
  },
  {
   "cell_type": "markdown",
   "metadata": {},
   "source": [
    "### 2. Random Forest"
   ]
  },
  {
   "cell_type": "markdown",
   "metadata": {},
   "source": [
    "### >>R-Square Error"
   ]
  },
  {
   "cell_type": "code",
   "execution_count": 100,
   "metadata": {},
   "outputs": [
    {
     "name": "stdout",
     "output_type": "stream",
     "text": [
      "The R-square is:  0.7405938411585025\n"
     ]
    }
   ],
   "source": [
    "print('The R-square is: ', regressor.score(x_test, y_test))"
   ]
  },
  {
   "cell_type": "markdown",
   "metadata": {},
   "source": [
    "### >>Cross Validation"
   ]
  },
  {
   "cell_type": "code",
   "execution_count": 101,
   "metadata": {},
   "outputs": [],
   "source": [
    "Rcross = cross_val_score(regressor, X, Y, cv=4)"
   ]
  },
  {
   "cell_type": "code",
   "execution_count": 102,
   "metadata": {},
   "outputs": [
    {
     "name": "stdout",
     "output_type": "stream",
     "text": [
      "The mean of the folds are 0.7347222833972608 and the standard deviation is 0.004699891430294816\n"
     ]
    }
   ],
   "source": [
    "print(\"The mean of the folds are\", Rcross.mean(), \"and the standard deviation is\" , Rcross.std())"
   ]
  },
  {
   "cell_type": "markdown",
   "metadata": {},
   "source": [
    "### >>Mean Square Error(MSE)"
   ]
  },
  {
   "cell_type": "code",
   "execution_count": 103,
   "metadata": {},
   "outputs": [
    {
     "name": "stdout",
     "output_type": "stream",
     "text": [
      "The mean square error(MSE) of price and predicted value using multifit is:  4.115101295776747\n"
     ]
    }
   ],
   "source": [
    "mse = mean_squared_error(y_test, regressor.predict(x_test))\n",
    "print('The mean square error(MSE) of price and predicted value using multifit is: ', mse)"
   ]
  },
  {
   "cell_type": "markdown",
   "metadata": {},
   "source": [
    "### >>Root Mean Square Error (RMSE)"
   ]
  },
  {
   "cell_type": "code",
   "execution_count": 104,
   "metadata": {},
   "outputs": [
    {
     "name": "stdout",
     "output_type": "stream",
     "text": [
      "The Root mean square error(RMSE) of price and predicted value using multifit is:  2.0285712449349043\n"
     ]
    }
   ],
   "source": [
    "rmse = math.sqrt(mse)\n",
    "print('The Root mean square error(RMSE) of price and predicted value using multifit is: ', rmse)"
   ]
  },
  {
   "cell_type": "markdown",
   "metadata": {},
   "source": [
    "<hr>"
   ]
  },
  {
   "cell_type": "markdown",
   "metadata": {},
   "source": [
    "### 3. Gradient Boosting: lightgbm"
   ]
  },
  {
   "cell_type": "markdown",
   "metadata": {},
   "source": [
    "### >> Mean Square Error(MSE)"
   ]
  },
  {
   "cell_type": "code",
   "execution_count": 106,
   "metadata": {},
   "outputs": [
    {
     "name": "stdout",
     "output_type": "stream",
     "text": [
      "The mean square error(MSE) of price and predicted value using multifit is:  3.615147251668539\n"
     ]
    }
   ],
   "source": [
    "mse = mean_squared_error(y_test, model.predict(x_test))\n",
    "print('The mean square error(MSE) of price and predicted value using multifit is: ', mse)"
   ]
  },
  {
   "cell_type": "markdown",
   "metadata": {},
   "source": [
    "### >>Root Mean Square Error (RMSE)"
   ]
  },
  {
   "cell_type": "code",
   "execution_count": 108,
   "metadata": {},
   "outputs": [
    {
     "name": "stdout",
     "output_type": "stream",
     "text": [
      "The Root mean square error(RMSE) of price and predicted value using multifit is:  1.901354057420274\n"
     ]
    }
   ],
   "source": [
    "import math\n",
    "rmse = math.sqrt(mse)\n",
    "print('The Root mean square error(RMSE) of price and predicted value using multifit is: ', rmse)"
   ]
  },
  {
   "cell_type": "markdown",
   "metadata": {},
   "source": [
    "## Conclusion\n",
    "<p><b>Gradient Boosting: lightgbm model is producing the least RMSE, hence we will select this model</b></p>"
   ]
  },
  {
   "cell_type": "code",
   "execution_count": 109,
   "metadata": {},
   "outputs": [
    {
     "data": {
      "text/html": [
       "<div>\n",
       "<style scoped>\n",
       "    .dataframe tbody tr th:only-of-type {\n",
       "        vertical-align: middle;\n",
       "    }\n",
       "\n",
       "    .dataframe tbody tr th {\n",
       "        vertical-align: top;\n",
       "    }\n",
       "\n",
       "    .dataframe thead th {\n",
       "        text-align: right;\n",
       "    }\n",
       "</style>\n",
       "<table border=\"1\" class=\"dataframe\">\n",
       "  <thead>\n",
       "    <tr style=\"text-align: right;\">\n",
       "      <th></th>\n",
       "      <th>pickup_datetime</th>\n",
       "      <th>pickup_longitude</th>\n",
       "      <th>pickup_latitude</th>\n",
       "      <th>dropoff_longitude</th>\n",
       "      <th>dropoff_latitude</th>\n",
       "      <th>passenger_count</th>\n",
       "      <th>pickup_area</th>\n",
       "      <th>dropoff_area</th>\n",
       "      <th>distance</th>\n",
       "      <th>year</th>\n",
       "      <th>month</th>\n",
       "      <th>day</th>\n",
       "      <th>hour</th>\n",
       "      <th>dayOfWeek</th>\n",
       "    </tr>\n",
       "  </thead>\n",
       "  <tbody>\n",
       "    <tr>\n",
       "      <th>0</th>\n",
       "      <td>2015-01-27 13:08:24+00:00</td>\n",
       "      <td>-1.291078</td>\n",
       "      <td>0.711463</td>\n",
       "      <td>-1.291220</td>\n",
       "      <td>0.711114</td>\n",
       "      <td>1</td>\n",
       "      <td>-1</td>\n",
       "      <td>5181</td>\n",
       "      <td>2.323989</td>\n",
       "      <td>2015</td>\n",
       "      <td>1</td>\n",
       "      <td>27</td>\n",
       "      <td>13</td>\n",
       "      <td>1</td>\n",
       "    </tr>\n",
       "    <tr>\n",
       "      <th>1</th>\n",
       "      <td>2015-01-27 13:08:24+00:00</td>\n",
       "      <td>-1.291314</td>\n",
       "      <td>0.710687</td>\n",
       "      <td>-1.291524</td>\n",
       "      <td>0.711033</td>\n",
       "      <td>1</td>\n",
       "      <td>3040</td>\n",
       "      <td>-1</td>\n",
       "      <td>2.426114</td>\n",
       "      <td>2015</td>\n",
       "      <td>1</td>\n",
       "      <td>27</td>\n",
       "      <td>13</td>\n",
       "      <td>1</td>\n",
       "    </tr>\n",
       "    <tr>\n",
       "      <th>2</th>\n",
       "      <td>2011-10-08 11:53:44+00:00</td>\n",
       "      <td>-1.291239</td>\n",
       "      <td>0.711244</td>\n",
       "      <td>-1.291189</td>\n",
       "      <td>0.711154</td>\n",
       "      <td>1</td>\n",
       "      <td>5361</td>\n",
       "      <td>-1</td>\n",
       "      <td>0.618822</td>\n",
       "      <td>2011</td>\n",
       "      <td>10</td>\n",
       "      <td>8</td>\n",
       "      <td>11</td>\n",
       "      <td>5</td>\n",
       "    </tr>\n",
       "    <tr>\n",
       "      <th>3</th>\n",
       "      <td>2012-12-01 21:12:12+00:00</td>\n",
       "      <td>-1.291215</td>\n",
       "      <td>0.711532</td>\n",
       "      <td>-1.291377</td>\n",
       "      <td>0.711250</td>\n",
       "      <td>1</td>\n",
       "      <td>5791</td>\n",
       "      <td>-1</td>\n",
       "      <td>1.961648</td>\n",
       "      <td>2012</td>\n",
       "      <td>12</td>\n",
       "      <td>1</td>\n",
       "      <td>21</td>\n",
       "      <td>5</td>\n",
       "    </tr>\n",
       "    <tr>\n",
       "      <th>4</th>\n",
       "      <td>2012-12-01 21:12:12+00:00</td>\n",
       "      <td>-1.290951</td>\n",
       "      <td>0.711916</td>\n",
       "      <td>-1.291344</td>\n",
       "      <td>0.711124</td>\n",
       "      <td>1</td>\n",
       "      <td>-1</td>\n",
       "      <td>-1</td>\n",
       "      <td>5.388992</td>\n",
       "      <td>2012</td>\n",
       "      <td>12</td>\n",
       "      <td>1</td>\n",
       "      <td>21</td>\n",
       "      <td>5</td>\n",
       "    </tr>\n",
       "  </tbody>\n",
       "</table>\n",
       "</div>"
      ],
      "text/plain": [
       "            pickup_datetime  pickup_longitude  pickup_latitude  \\\n",
       "0 2015-01-27 13:08:24+00:00         -1.291078         0.711463   \n",
       "1 2015-01-27 13:08:24+00:00         -1.291314         0.710687   \n",
       "2 2011-10-08 11:53:44+00:00         -1.291239         0.711244   \n",
       "3 2012-12-01 21:12:12+00:00         -1.291215         0.711532   \n",
       "4 2012-12-01 21:12:12+00:00         -1.290951         0.711916   \n",
       "\n",
       "   dropoff_longitude  dropoff_latitude  passenger_count  pickup_area  \\\n",
       "0          -1.291220          0.711114                1           -1   \n",
       "1          -1.291524          0.711033                1         3040   \n",
       "2          -1.291189          0.711154                1         5361   \n",
       "3          -1.291377          0.711250                1         5791   \n",
       "4          -1.291344          0.711124                1           -1   \n",
       "\n",
       "   dropoff_area  distance  year  month  day  hour  dayOfWeek  \n",
       "0          5181  2.323989  2015      1   27    13          1  \n",
       "1            -1  2.426114  2015      1   27    13          1  \n",
       "2            -1  0.618822  2011     10    8    11          5  \n",
       "3            -1  1.961648  2012     12    1    21          5  \n",
       "4            -1  5.388992  2012     12    1    21          5  "
      ]
     },
     "execution_count": 109,
     "metadata": {},
     "output_type": "execute_result"
    }
   ],
   "source": [
    "test_df.head()"
   ]
  },
  {
   "cell_type": "code",
   "execution_count": 110,
   "metadata": {},
   "outputs": [],
   "source": [
    "key = test_df['pickup_datetime']\n",
    "test = test_df[test_df.columns[1:]]"
   ]
  },
  {
   "cell_type": "code",
   "execution_count": 112,
   "metadata": {},
   "outputs": [],
   "source": [
    "### predict value\n",
    "prediction = model.predict(test, num_iteration = model.best_iteration)\n",
    "\n",
    "submission = pd.DataFrame({\n",
    "    \"key\": key,\n",
    "    \"fare_amount\": prediction\n",
    "})\n",
    "\n",
    "submission.to_csv('submission.csv',index=False)"
   ]
  }
 ],
 "metadata": {
  "kernelspec": {
   "display_name": "Python 3",
   "language": "python",
   "name": "python3"
  },
  "language_info": {
   "codemirror_mode": {
    "name": "ipython",
    "version": 3
   },
   "file_extension": ".py",
   "mimetype": "text/x-python",
   "name": "python",
   "nbconvert_exporter": "python",
   "pygments_lexer": "ipython3",
   "version": "3.7.3"
  }
 },
 "nbformat": 4,
 "nbformat_minor": 2
}
